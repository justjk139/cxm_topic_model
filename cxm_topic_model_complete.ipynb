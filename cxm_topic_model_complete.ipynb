{
 "cells": [
  {
   "cell_type": "markdown",
   "metadata": {},
   "source": [
    "### IPPS - CXM Topic Model Project\n",
    "This project is focused on organizing the ServiceNow case tickets received by the Customer Experience Management (CXM) Team at IPPS. The CXM team was looking for a way to better organize case tickets and had asked the Analytics team for help. The main objective was to demonstrate a possible way to categorize the tickets into topics that could be used to enhance the teams ability to quickly resolve issues and prevent a backlog of cases. Topic modeling was the method of choice and was done using Gensim from an online tutorial approved by all members of the Analytics team. Certain actions and changes were made as needed to work with our specific datasets and as a results of requests from the CXM Team. This current iteration is not intended to be the final solution.\n",
    "\n",
    "** Datasets SHOULD NOT be pushed to repository per team policy **\n",
    "\n",
    "Stakeholders: CXM Team \\\n",
    "Project Timeline: 08/2020 - 12/2020 \\\n",
    "Status: Concluded"
   ]
  },
  {
   "cell_type": "code",
   "execution_count": 22,
   "metadata": {
    "tags": []
   },
   "outputs": [
    {
     "name": "stderr",
     "output_type": "stream",
     "text": [
      "[nltk_data] Downloading package stopwords to /Users/jihok/nltk_data...\n",
      "[nltk_data]   Package stopwords is already up-to-date!\n"
     ]
    }
   ],
   "source": [
    "# Required Packages\n",
    "# Refer to team guides for installing\n",
    "\n",
    "import re\n",
    "import pandas as pd\n",
    "import numpy as np\n",
    "from pprint import pprint\n",
    "import spacy\n",
    "from nltk.stem import WordNetLemmatizer\n",
    "import nltk; nltk.download('stopwords')\n",
    "import gensim\n",
    "import gensim.corpora as corpora\n",
    "from gensim.utils import simple_preprocess\n",
    "from gensim.models import CoherenceModel\n",
    "import pyLDAvis\n",
    "import pyLDAvis.gensim\n",
    "import matplotlib.pyplot as plt\n",
    "# %matplotlib inline\n",
    "\n",
    "import warnings\n",
    "warnings.filterwarnings(\"ignore\",category=DeprecationWarning)"
   ]
  },
  {
   "cell_type": "markdown",
   "metadata": {},
   "source": [
    "### Data Cleaning Steps\n",
    "\n",
    "Prior to using the data sources, they must be cleaned and prepared. Two functions, utilizing regular expression, were developed and used to remove unnecessary characters found in the ServiceNow datasets. Further edits can be made to the cleaning process when requested."
   ]
  },
  {
   "cell_type": "code",
   "execution_count": 24,
   "metadata": {
    "tags": []
   },
   "outputs": [],
   "source": [
    "# FUNCTIONS APPLY CURRENT CLEANING STEPS INTO ENTIRE DATASET\n",
    "\n",
    "def subject_clean(subject_line):\n",
    "    \"\"\"Remove all unnecessary characters from Description column for each dataset row\"\"\"\n",
    "    regex_sol = re.sub(r'https?://\\S+', '', subject_line) # removes URL links\n",
    "    regex_sol = re.sub(r\"\\S*@\\S*\\s?\", \"\", regex_sol) # removes email accounts\n",
    "    regex_sol = regex_sol.replace(\"\\n\", \"\").replace(\"< >\",\"\").replace(\"\\r\", \"\") # removes newline and <> and \\r\n",
    "    regex_sol = re.sub(r\"\\d+\", \"\", regex_sol) # removes integers \n",
    "    regex_sol = re.sub(r\"([^\\s\\w]|_)+\", \" \", regex_sol) # removes non-alphanumeric characters, but maintains whitespace\n",
    "    regex_sol = regex_sol.encode(\"ASCII\", \"replace\").decode(\"utf-8\").replace(\"?\", \" \") # removes all non-ASCII characters\n",
    "    regex_sol = regex_sol.lower() # lower case string\n",
    "    return regex_sol\n",
    "\n",
    "def case_line_clean(case_line):\n",
    "    \"\"\"Remove all unnecessary characters from Case column for each dataset row\"\"\"\n",
    "    regex_sol_2 = re.sub(r\"[?](CS)[0-9]+\", \"\", case_line) # removes ending \"?CS###\"\n",
    "    regex_sol_2 = re.sub(r\"\\d+\", \"\", regex_sol_2) # removes integers\n",
    "    regex_sol_2 = re.sub(r\"([^\\s\\w]|_)+\", \" \", regex_sol_2) # removes non-characters, but maintains whitespace\n",
    "    regex_sol_2 = regex_sol_2.lower()\n",
    "    return regex_sol_2"
   ]
  },
  {
   "cell_type": "markdown",
   "metadata": {},
   "source": [
    "An additional removal of any instance of \"Spam\" and \"Other Buying Inquiry\" were added as part of the dataset cleaning efforts."
   ]
  },
  {
   "cell_type": "code",
   "execution_count": null,
   "metadata": {},
   "outputs": [],
   "source": [
    "# call the dataset that pertains to you\n",
    "august_dataset = pd.read_csv(\"SNOW August Data.csv\", encoding = \"ISO-8859-1\")\n",
    "september_dataset = pd.read_csv(\"SNOW September Data.csv\", encoding = \"ISO-8859-1\")\n",
    "\n",
    "#SPAM case removal\n",
    "august_dataset = august_dataset.loc[(august_dataset['contact'] != 'Spam spam') \n",
    "                                    & (august_dataset['contact'] != 'SPAM SPAM') \n",
    "                                    & (august_dataset['resolution_code'] != 'Spam') \n",
    "                                    & (august_dataset['service_offering'] == 'Other Buying Inquiry')].reset_index(drop=True)\n",
    "\n",
    "september_dataset = september_dataset.loc[(september_dataset['contact'] != 'Spam spam') \n",
    "                                          & (september_dataset['contact'] != 'SPAM SPAM') \n",
    "                                          & (september_dataset['resolution_code'] != 'Spam') \n",
    "                                          & (september_dataset['service_offering'] == 'Other Buying Inquiry')].reset_index(drop=True)\n",
    "\n",
    "# Regex cleaning applied to both the \"description\" and \"case\" columns in each dataset\n",
    "august_dataset['description'] = august_dataset['description'].apply(subject_clean)\n",
    "september_dataset['description'] = september_dataset['description'].apply(subject_clean)\n",
    "\n",
    "august_dataset['case'] = august_dataset['case'].apply(case_line_clean)\n",
    "september_dataset['case'] = september_dataset['case'].apply(case_line_clean)\n",
    "\n",
    "# Concat the cleaned data into one dataframe for use\n",
    "# June annd July have been removed \n",
    "all_months = pd.concat([august_dataset, september_dataset]).reset_index()\n",
    "# len(all_months) 631"
   ]
  },
  {
   "cell_type": "markdown",
   "metadata": {},
   "source": [
    "Cases with \"wav file\" and \"idt\" were also removed as requested. Code below iterates through all_months and removes a total of 85 rows "
   ]
  },
  {
   "cell_type": "code",
   "execution_count": 26,
   "metadata": {
    "tags": []
   },
   "outputs": [],
   "source": [
    "delete_rows = []\n",
    "for i in range(len(all_months)):\n",
    "    curr = all_months.iloc[i]['description']\n",
    "    test1 = re.findall(r\"\\b(wav.file)\\b\", curr)\n",
    "    test2 = re.findall(r\"\\b(idt)\\b\", curr)\n",
    "    if len(test1) > 0 or len(test2) > 0:\n",
    "        delete_rows.append(i)\n",
    "\n",
    "all_months = all_months.drop(delete_rows).reset_index(drop=True)"
   ]
  },
  {
   "cell_type": "markdown",
   "metadata": {},
   "source": [
    "### Topic Modeling Work \n",
    "\n",
    "Resources: https://www.machinelearningplus.com/nlp/topic-modeling-gensim-python/"
   ]
  },
  {
   "cell_type": "markdown",
   "metadata": {},
   "source": [
    "Stopwords are generated at this step in the project. The variable \"domain_stop_words\" is done by hand and includes words typically seen in ServiceNow cases. Additional words can be added here or from the additional_stopwords.ipynb for cleanliness. \"domain_stop_words\" is then added onto the downloaded stopwords from the nltk package."
   ]
  },
  {
   "cell_type": "code",
   "execution_count": 28,
   "metadata": {
    "tags": []
   },
   "outputs": [],
   "source": [
    "from nltk.corpus import stopwords\n",
    "stop_words = stopwords.words('english')\n",
    "# Additional stopwords\n",
    "domain_stop_words = [\n",
    "    'hi', 'hello', 'thank', 'thanks', 'com', 'the', 're', 'php', 'http', 'XXXXXXXXX', 'would', 'however', \n",
    "    'please', 'do', 'can', 'may', 'check', 'pende', 'tell', 'use', 'call', 'let', 'dear', 'see', 'click', \n",
    "    'still', 'unable', 'even', 'minute', 'basically', 'seem', 'expect', 'pcie', 'usd', 'go', 'could', \n",
    "    'advise', 'appreciate', 'regard', 'also', 'end', 'sure', 'copy', 'phone', 'know', 'accidently', \n",
    "    'reply', 'web', 'soon', 'regard', 'get', 'try', 'new', 'follow', 'date', 'pm' ,'back', 'note', 'us', \n",
    "    'sku', 'sincerely', 'immediately', 'notify', 'one', 'two', 'someone', 'day', 'put', 'start', 'set', \n",
    "    'reply', 'advise', 'august', 'arise', 'therewith', 'regarding', 'san', 'diego', 'uc', 'inc', 'ca',\n",
    "    'go', 'able', 'say', 'like', 'wav_file', 'ref', 'monday', 'marketplace', 'try', 'time', 'use','want',\n",
    "    'ucsd','pur', 'support', 'provide', 'question','darmstadt', 'germany', 'accept', 'liability','office',\n",
    "    'subject', 'email','sent','confidential','attachment','say','pdf','sender', 'comments','v', 'customer',\n",
    "    'services', 'abcam','kendall','square','suite','cambridge', 'usatoll','free','international','tel','fax',\n",
    "    'hours','est','mon','frigoods','duties','unpaid','control','placing','agreeing','duties','applicable', \n",
    "    'wondering', 'happens', 'something', 'janelle', 'chartstream', 'needs', 'believe', 'attached', 'cce', \n",
    "    'zhu', 'rm', 'ste', 'cd', 'going', 'received', 'much', 'kind', 'regards', 'drydock', 'avenueboston', \n",
    "    'linethank', 'ab', 'from'\n",
    "    ]      \n",
    "\n",
    "# if stop_words_blk_1 is empty, cell will run lines under inside \"except\" \n",
    "# to add additional stopwords go to \"additional_stopwords.ipynb\"\n",
    "try:\n",
    "    # retreives additional stop words from additional_stopwords notebook\n",
    "    %store -r stop_words_blk_1\n",
    "    stop_words.extend(domain_stop_words+stop_words_blk_1)   \n",
    "except:\n",
    "    # retreives additional stop words \n",
    "    stop_words.extend(domain_stop_words)"
   ]
  },
  {
   "cell_type": "code",
   "execution_count": 30,
   "metadata": {},
   "outputs": [
    {
     "name": "stdout",
     "output_type": "stream",
     "text": [
      "3958\n"
     ]
    }
   ],
   "source": [
    "print(len(stop_words))"
   ]
  },
  {
   "cell_type": "markdown",
   "metadata": {},
   "source": [
    "#### Tokenization of Words\n",
    "\n",
    "The \"description\" column is now tokenized to have their sentences broken down and separated into a list of words. The result lists of words is stored in the variable \"text_words\"."
   ]
  },
  {
   "cell_type": "code",
   "execution_count": 34,
   "metadata": {
    "tags": []
   },
   "outputs": [],
   "source": [
    "# Dividing description into individual words aka tokenizing\n",
    "alldescrip = list(all_months['description'])\n",
    "\n",
    "#initiate blank list\n",
    "text_words = []\n",
    "\n",
    "#for loop to tokenize all words in\n",
    "for sentence in alldescrip:\n",
    "    temp = gensim.utils.simple_preprocess(sentence)\n",
    "    text_words.append(temp)"
   ]
  },
  {
   "cell_type": "markdown",
   "metadata": {},
   "source": [
    "#### Biagram Creation\n",
    "\n",
    "Words that frequently occur together in the variable \"text_words\" are built using the gensim package here. \n",
    "Consult resource link above for further details."
   ]
  },
  {
   "cell_type": "code",
   "execution_count": 36,
   "metadata": {
    "tags": []
   },
   "outputs": [],
   "source": [
    "# Build the bigram\n",
    "bigram = gensim.models.Phrases(text_words, min_count=5, threshold=100)\n",
    "bigram_mod = gensim.models.phrases.Phraser(bigram)"
   ]
  },
  {
   "cell_type": "markdown",
   "metadata": {},
   "source": [
    "#### Stopword Removal, Biagram Constructed, Lemmatization Occurs"
   ]
  },
  {
   "cell_type": "markdown",
   "metadata": {},
   "source": [
    "The stopwords stored earlier are now being used to remove instances of the stopwords found in the variable \"text_words\". A bigram model is also constructed here."
   ]
  },
  {
   "cell_type": "code",
   "execution_count": 38,
   "metadata": {
    "tags": []
   },
   "outputs": [],
   "source": [
    "#Removeal of stop words\n",
    "text_words_no_stops = [[word for word in simple_preprocess(str(doc)) if word not in stop_words] for doc in text_words]\n",
    "\n",
    "#Make texts into bigram model\n",
    "text_words_no_stops_bigram = [bigram_mod[doc] for doc in text_words_no_stops]"
   ]
  },
  {
   "cell_type": "markdown",
   "metadata": {},
   "source": [
    "Lemmatization process occurs here. Spacy was used in the online tutorial, but was not used for our purposes with the reason being that the results of the lemmatization being better not using spacy."
   ]
  },
  {
   "cell_type": "code",
   "execution_count": 42,
   "metadata": {
    "tags": []
   },
   "outputs": [],
   "source": [
    "# Lemmatize with POS Tag\n",
    "# Ex: dance and dancing == dance \n",
    "# Grouping words\n",
    "from nltk.corpus import wordnet\n",
    "from nltk.stem import WordNetLemmatizer\n",
    "lemmatizer = WordNetLemmatizer()\n",
    "\n",
    "\n",
    "# return POS tag for next function\n",
    "def get_wordnet_pos(word):\n",
    "    \"\"\"Map POS tag to first character lemmatize() accepts\"\"\"\n",
    "    tag = nltk.pos_tag([word])[0][1][0].upper()\n",
    "    tag_dict = {\"J\": wordnet.ADJ,\n",
    "                \"N\": wordnet.NOUN,\n",
    "                \"V\": wordnet.VERB,\n",
    "                \"R\": wordnet.ADV}\n",
    "\n",
    "    return tag_dict.get(tag, wordnet.NOUN)"
   ]
  },
  {
   "cell_type": "code",
   "execution_count": 44,
   "metadata": {
    "tags": []
   },
   "outputs": [],
   "source": [
    "# Lemmatizing function \n",
    "# takes in full list of descriptions with stop words removed\n",
    "# returns descriptions lemmatized\n",
    "def lemm(text_stop_no_bigram):\n",
    "    count = 0\n",
    "    out = []\n",
    "    for descrip in text_stop_no_bigram:\n",
    "        count += 1\n",
    "        inner = []\n",
    "        for word in descrip:\n",
    "            pos = get_wordnet_pos(word)\n",
    "            inner.append(lemmatizer.lemmatize(word, pos))\n",
    "        out.append(inner)\n",
    "    return out\n"
   ]
  },
  {
   "cell_type": "code",
   "execution_count": 46,
   "metadata": {
    "tags": []
   },
   "outputs": [
    {
     "name": "stderr",
     "output_type": "stream",
     "text": [
      "[nltk_data] Downloading package wordnet to /Users/jihok/nltk_data...\n",
      "[nltk_data]   Package wordnet is already up-to-date!\n"
     ]
    }
   ],
   "source": [
    "# Lemmatizes \n",
    "nltk.download('wordnet')\n",
    "lemmed = (lemm(text_words_no_stops_bigram))\n",
    "#lemmed[0]"
   ]
  },
  {
   "cell_type": "markdown",
   "metadata": {},
   "source": [
    "#### Dictionary and Corpus Creation for Topic Model\n",
    "\n",
    "A dictionary and corpus are created as they serve as the inputs for the LDA model. Both created variables use the variable \"lemmed\" from previous lines of code."
   ]
  },
  {
   "cell_type": "code",
   "execution_count": 50,
   "metadata": {
    "tags": []
   },
   "outputs": [],
   "source": [
    "#Create Dictionary\n",
    "id2word = gensim.corpora.Dictionary(lemmed)\n",
    "\n",
    "#Create Corpus\n",
    "texts = lemmed\n",
    "\n",
    "#Build Term Document Frequency (TDF)\n",
    "corpus = [id2word.doc2bow(text) for text in texts]"
   ]
  },
  {
   "cell_type": "code",
   "execution_count": 52,
   "metadata": {
    "tags": []
   },
   "outputs": [],
   "source": [
    "# Read Corups/TDF per case\n",
    "# Uncomment line below to observe word frequency\n",
    "# WARNING: list is huge\n",
    "# [[(id2word[id], freq) for id, freq in cp] for cp in corpus]"
   ]
  },
  {
   "cell_type": "markdown",
   "metadata": {},
   "source": [
    "#### Building Topic Model and Visualization (Gensim)"
   ]
  },
  {
   "cell_type": "code",
   "execution_count": 54,
   "metadata": {
    "tags": []
   },
   "outputs": [],
   "source": [
    "# Build LDA Model\n",
    "# Number of topics chosen here is 6 (changeable)\n",
    "lda_model = gensim.models.ldamodel.LdaModel(corpus=corpus,\n",
    "                                           id2word=id2word,\n",
    "                                           num_topics=6, \n",
    "                                           random_state=100,\n",
    "                                           update_every=0,\n",
    "                                           chunksize=100,\n",
    "                                           passes=1,\n",
    "                                           alpha='auto',\n",
    "                                           per_word_topics=True)\n",
    "\n"
   ]
  },
  {
   "cell_type": "markdown",
   "metadata": {},
   "source": [
    "For this particular case, 6 topics are generated and each topic (denoted with a number from 0-6) has keywords that contribute a percentage weight to the topic. \\\n",
    "The top 10 keywords are chosen for each topic. \\\n",
    "Note: Certain words appear in multiple topics (consider for future implementations)."
   ]
  },
  {
   "cell_type": "code",
   "execution_count": 55,
   "metadata": {
    "tags": []
   },
   "outputs": [
    {
     "name": "stdout",
     "output_type": "stream",
     "text": [
      "[(0,\n",
      "  '0.066*\"order\" + 0.023*\"message\" + 0.022*\"product\" + 0.021*\"document\" + '\n",
      "  '0.018*\"number\" + 0.017*\"ship\" + 0.016*\"purchase\" + 0.015*\"purchasing\" + '\n",
      "  '0.014*\"lifespan\" + 0.014*\"file\"'),\n",
      " (1,\n",
      "  '0.105*\"message\" + 0.037*\"inquiry\" + 0.027*\"update\" + 0.027*\"content\" + '\n",
      "  '0.026*\"error\" + 0.026*\"subsidiary\" + 0.026*\"transmission\" + 0.025*\"contact\" '\n",
      "  '+ 0.025*\"result\" + 0.020*\"order\"'),\n",
      " (2,\n",
      "  '0.045*\"po\" + 0.039*\"order\" + 0.027*\"invoice\" + 0.022*\"contact\" + '\n",
      "  '0.021*\"message\" + 0.021*\"number\" + 0.017*\"document\" + 0.015*\"payment\" + '\n",
      "  '0.014*\"information\" + 0.011*\"oracle\"'),\n",
      " (3,\n",
      "  '0.047*\"order\" + 0.031*\"fedex\" + 0.030*\"number\" + 0.024*\"message\" + '\n",
      "  '0.022*\"delivery\" + 0.020*\"service\" + 0.018*\"document\" + 0.015*\"purchase\" + '\n",
      "  '0.014*\"request\" + 0.014*\"need\"'),\n",
      " (4,\n",
      "  '0.079*\"order\" + 0.041*\"message\" + 0.021*\"po\" + 0.020*\"number\" + '\n",
      "  '0.017*\"service\" + 0.017*\"contact\" + 0.017*\"change\" + 0.016*\"document\" + '\n",
      "  '0.015*\"supplier\" + 0.012*\"requisition_req\"'),\n",
      " (5,\n",
      "  '0.076*\"order\" + 0.030*\"oracle\" + 0.028*\"need\" + 0.028*\"purchase\" + '\n",
      "  '0.026*\"vendor\" + 0.023*\"po\" + 0.020*\"find\" + 0.019*\"help\" + 0.015*\"place\" + '\n",
      "  '0.014*\"submit\"')]\n"
     ]
    }
   ],
   "source": [
    "# Print the Keyword in the 6 topics\n",
    "pprint(lda_model.print_topics())\n",
    "doc_lda = lda_model[corpus]"
   ]
  },
  {
   "cell_type": "markdown",
   "metadata": {},
   "source": [
    "Perplexity and Coherence scores are calculated to measure the topic model."
   ]
  },
  {
   "cell_type": "code",
   "execution_count": 56,
   "metadata": {
    "tags": []
   },
   "outputs": [
    {
     "name": "stdout",
     "output_type": "stream",
     "text": [
      "\n",
      "Perplexity:  -5.1672345747669235\n",
      "\n",
      "Coherence Score:  0.42355793021033744\n"
     ]
    }
   ],
   "source": [
    "# Compute Perplexity (Lower the better)\n",
    "print('\\nPerplexity: ', lda_model.log_perplexity(corpus))\n",
    "\n",
    "# Compute Coherence Score (Higher the beter)\n",
    "coherence_model_lda = CoherenceModel(model=lda_model, texts=lemmed, dictionary=id2word, coherence='c_v')\n",
    "coherence_lda = coherence_model_lda.get_coherence()\n",
    "print('\\nCoherence Score: ', coherence_lda)"
   ]
  },
  {
   "cell_type": "markdown",
   "metadata": {},
   "source": [
    "We can now visualize the topics and their associated words. This was done using the pyLDAvis package downloaded early on in the project. \\\n",
    "Each topic is represented as a bubble on the left-hand side. We want to see larger bubbles and bubbles that do not overlap with over bubbles, if possible. \\\n",
    "Hovering over a bubble, the right-hand side of the visual will adjust to show the words associated with that particlar bubble/topic.\n",
    "\n",
    "Note: Adjusting the number of topics can be done under the \"Building Topic Model and Visualization (Gensim)\" tab. Locate the variable \"num_topics\""
   ]
  },
  {
   "cell_type": "code",
   "execution_count": 57,
   "metadata": {
    "tags": []
   },
   "outputs": [
    {
     "data": {
      "text/html": [
       "\n",
       "<link rel=\"stylesheet\" type=\"text/css\" href=\"https://cdn.rawgit.com/bmabey/pyLDAvis/files/ldavis.v1.0.0.css\">\n",
       "\n",
       "\n",
       "<div id=\"ldavis_el234051402486881876001665363839\"></div>\n",
       "<script type=\"text/javascript\">\n",
       "\n",
       "var ldavis_el234051402486881876001665363839_data = {\"mdsDat\": {\"x\": [-0.18474383196188376, -0.02677227161125578, -0.004140707309834143, 0.046356972910704446, 0.13685030751763136, 0.03244953045463814], \"y\": [-0.03232188283413602, 0.02261984429522879, -0.043499810195279834, 0.038191211614920575, -0.07474389718070588, 0.08975453429997242], \"topics\": [1, 2, 3, 4, 5, 6], \"cluster\": [1, 1, 1, 1, 1, 1], \"Freq\": [33.12725394118486, 19.268063347802205, 14.713235587973495, 14.438503332467448, 9.72337087304842, 8.729572917523571]}, \"tinfo\": {\"Term\": [\"order\", \"fedex\", \"inquiry\", \"po\", \"oracle\", \"vendor\", \"invoice\", \"subsidiary\", \"purchase\", \"message\", \"need\", \"delivery\", \"number\", \"find\", \"help\", \"product\", \"result\", \"lifespan\", \"supplier\", \"content\", \"shop\", \"description\", \"payment\", \"document\", \"shipment\", \"change\", \"place\", \"transmission\", \"requisition_req\", \"track\", \"initial\", \"subsidiary\", \"inquiry\", \"transmit\", \"fast\", \"omission\", \"content\", \"german_french\", \"result\", \"otherwise\", \"transmission\", \"virus\", \"guarantee\", \"access\", \"disclosure\", \"update\", \"privileged\", \"person\", \"directly\", \"provide\", \"delete\", \"message\", \"reference\", \"equipment\", \"error\", \"intended_recipient\", \"respond\", \"system\", \"rate\", \"bernal_ashlyn\", \"file\", \"purchasing\", \"review\", \"contact\", \"document\", \"need\", \"service\", \"order\", \"request\", \"number\", \"mail\", \"requester_creation\", \"changedaccess\", \"requester\", \"quantity\", \"nathan\", \"requisition_req\", \"campus\", \"addr_ship\", \"expiration\", \"campus_buyer\", \"location\", \"approve\", \"initiate\", \"workspace_application\", \"billing\", \"task\", \"assign\", \"sell\", \"prefer\", \"amount\", \"change\", \"communication\", \"stock\", \"yes\", \"vwr\", \"qty\", \"address\", \"bill\", \"fisher_scientific\", \"read\", \"supplier\", \"description\", \"order\", \"attachment\", \"payment\", \"legal\", \"number\", \"service\", \"po\", \"message\", \"document\", \"contact\", \"invoice\", \"ship\", \"error\", \"track\", \"mail\", \"question\", \"request\", \"update\", \"submit\", \"inquiry\", \"information\", \"product\", \"purchase\", \"transmission\", \"review\", \"docusign\", \"prepayment\", \"effect\", \"attention\", \"href\", \"department\", \"feedback\", \"survey\", \"electronic\", \"duplicate\", \"metrohm\", \"strong\", \"secure\", \"verify\", \"concern\", \"take\", \"whether\", \"experience\", \"invoice\", \"drivela_jolla\", \"width\", \"span\", \"signature\", \"payment\", \"external\", \"material\", \"requirement\", \"inform\", \"exist\", \"miss\", \"po\", \"case\", \"register\", \"due\", \"action\", \"attachment\", \"pay\", \"sign\", \"contact\", \"number\", \"information\", \"order\", \"receive\", \"vendor\", \"document\", \"oracle\", \"follow\", \"message\", \"purchase\", \"need\", \"service\", \"request\", \"company\", \"question\", \"business\", \"system\", \"mail\", \"purchasing\", \"review\", \"account\", \"error\", \"shop\", \"lifespan\", \"limited\", \"shall\", \"user\", \"kitsk_citations\", \"responsible\", \"specific\", \"custom\", \"cart\", \"responsibility\", \"want\", \"kit\", \"handle\", \"assay\", \"park\", \"disclaims\", \"product\", \"email\", \"wish\", \"arbor\", \"use\", \"price\", \"cole_parmer\", \"available\", \"found\", \"keep\", \"replacement\", \"longer\", \"feel\", \"work\", \"ship\", \"description\", \"antibody\", \"order\", \"account\", \"receive\", \"line\", \"document\", \"purchasing\", \"file\", \"purchase\", \"number\", \"oracle\", \"information\", \"shipping\", \"review\", \"message\", \"company\", \"service\", \"supplier\", \"procurement\", \"po\", \"question\", \"change\", \"contact\", \"search\", \"answer\", \"meantime\", \"history\", \"amazon\", \"continue\", \"ask\", \"close\", \"chart_string\", \"supply\", \"ext\", \"many\", \"lab\", \"project\", \"fund\", \"find\", \"anything\", \"medical\", \"return\", \"look\", \"previous\", \"vendor\", \"code\", \"page\", \"place\", \"help\", \"try\", \"first\", \"quickly\", \"show\", \"oracle\", \"requisition\", \"purchase\", \"submit\", \"order\", \"need\", \"po\", \"available\", \"account\", \"information\", \"add\", \"contact\", \"status\", \"research\", \"invoice\", \"system\", \"question\", \"service\", \"error\", \"standard\", \"standard_transit\", \"fedex\", \"law\", \"destination\", \"cst\", \"late\", \"select\", \"univ\", \"estimate\", \"personal\", \"package\", \"schedule\", \"apply\", \"digest\", \"type\", \"approximately\", \"delivery\", \"export\", \"unit\", \"policy\", \"health\", \"base\", \"caution\", \"money\", \"north\", \"st\", \"individual\", \"shipment\", \"condition\", \"cell\", \"track\", \"case\", \"jolla\", \"number\", \"supplier\", \"deliver\", \"order\", \"service\", \"request\", \"purchase\", \"document\", \"information\", \"oracle\", \"need\", \"message\", \"vendor\", \"review\", \"po\", \"mail\", \"company\", \"help\", \"contact\", \"change\", \"purchasing\", \"question\"], \"Freq\": [670.0, 59.0, 200.0, 265.0, 120.0, 85.0, 111.0, 137.0, 158.0, 713.0, 177.0, 64.0, 239.0, 55.0, 64.0, 86.0, 143.0, 33.0, 88.0, 153.0, 24.0, 60.0, 69.0, 228.0, 46.0, 84.0, 51.0, 149.0, 47.0, 53.0, 58.58392757081179, 119.0748614233857, 166.85927726969425, 57.13809635644387, 53.84078138516563, 56.56147016230685, 124.09564575111162, 55.7255701510468, 114.41068013386544, 60.22712636930825, 116.81035897969375, 56.57609187356235, 55.93895867359869, 59.139561104460974, 59.447612235833375, 124.67833668063268, 61.385797041508845, 61.71399874528629, 59.18726667024135, 62.02890566448412, 60.145605438143214, 479.30983403601005, 63.54077699879835, 9.220142564735795, 119.64966734631348, 64.95868746436105, 55.19283035552686, 74.10021281327785, 5.757895285911348, 6.699036637531791, 72.18754157532248, 78.17870057637583, 71.48198233917799, 116.04755476580085, 87.00773894609024, 75.86952493459552, 73.42155786608109, 90.10772886294109, 64.41510684801787, 66.04448349364047, 60.64690302560268, 6.801778649268882, 7.237445235708595, 23.39630143159768, 10.315623689548023, 4.52180248683324, 31.696786966136287, 12.143250093815565, 10.44902103694925, 10.335799090610662, 9.705282557346152, 11.83531672719209, 18.188513663862842, 9.39071414051421, 10.387214700111269, 6.935059114902061, 21.56824831611345, 12.815813760897202, 9.1291853094945, 5.395710769142069, 14.827271067846146, 44.65103697732395, 5.316531719986418, 4.861599431324279, 4.189967107854719, 3.551875213649896, 4.877172226256196, 27.302819120336004, 4.644672126412318, 8.585683232799314, 4.278945982075939, 40.41799491819974, 26.277814251464203, 210.23458561019152, 18.88506839607518, 22.963821573997958, 10.721554688405131, 54.193952206188094, 45.18067836054142, 55.482511238303736, 110.0414462455203, 43.35812920133041, 44.975639291968584, 27.202961274566434, 22.69984193638153, 31.20800349112769, 16.671886762758394, 24.698458327818443, 24.99099669585029, 22.874091007771106, 23.74768389483282, 16.989251065692724, 23.229842004389845, 20.093312956145553, 17.737357460257364, 18.787122711294014, 18.27919907373979, 18.18880926960426, 10.015394854786246, 10.4964940714534, 8.006358964894032, 6.518583704636934, 9.676690481153537, 12.804759546830523, 5.581841862898513, 11.868769970111714, 8.224500709168831, 10.45161034197814, 5.470835313224772, 7.994357669722385, 4.74270935890263, 5.12959222223774, 5.4225916555545695, 14.142523811990204, 4.177146316954301, 8.880780867917299, 54.07228826600369, 4.553618361317423, 6.559845889582747, 8.300219276510141, 4.1548980671934705, 31.34148009270499, 5.427330027937992, 6.206739867297734, 4.0114959540480175, 5.182588419240886, 4.053461764153418, 4.915740230278169, 91.30178114012618, 17.000847547527243, 13.433709771024656, 11.732822978036332, 9.039888933534371, 14.992486948895573, 10.889387971470649, 7.529005961912115, 44.74045817028178, 42.252651165760504, 28.11118326374133, 78.81114819843448, 15.060029297436149, 19.585059699081693, 33.92897519869531, 21.95468223283813, 9.898656357335947, 43.439682865860455, 20.518986567950115, 21.24648775979834, 21.559669901635708, 18.162665855331433, 13.969265797190664, 18.167805624617973, 13.18793303054915, 16.777646313346526, 16.39062980845426, 16.506337896442666, 15.33542157365552, 11.952169857483794, 12.321227392698807, 22.979332282123647, 28.31804236380946, 7.62636914511828, 6.883157476517448, 17.66037475560451, 5.939269504969362, 10.497981657222741, 4.74625159723646, 5.7639020901572655, 8.155718994345486, 5.786519006798355, 4.584423283675999, 10.6197167881782, 4.418236098730925, 4.271326006264818, 4.696723770519257, 5.255749257302973, 44.77489778871204, 6.255159314696478, 6.117679695617241, 4.957784298219794, 11.045599746812789, 27.297480704607754, 5.150929661461398, 19.685873610090887, 6.665981784161539, 5.024056196898392, 3.9724207803265066, 4.19714641235902, 5.312560560689534, 11.432651398961903, 34.07053288604772, 21.914644348922053, 10.447230417741837, 132.30480923477285, 16.132550945113604, 16.39499708045182, 12.882801474547653, 41.60632175501771, 30.47540287035448, 28.306388430407345, 30.856751750734613, 35.83356706863886, 22.924929340908662, 23.42083043639676, 11.601865140255365, 22.579387527735243, 45.2175136973738, 14.094183085912077, 20.268944718648456, 15.038451056879193, 12.848220600588194, 17.63517986729506, 14.908411548376181, 12.56607937341008, 13.18032711722932, 10.713007159922457, 9.708519689728892, 6.623882175534346, 8.205112431807711, 12.830235866473942, 5.743020206705181, 6.622881652084383, 6.62319997208406, 5.515385829995635, 10.968226149152953, 6.056087302229756, 7.397329869178693, 10.71517672917515, 8.553489953492432, 5.032179503350069, 27.400775855412324, 8.27681682044063, 6.1732708806203185, 6.6221002076930215, 13.87214715796276, 3.976888473286631, 34.76814619520974, 6.624890188866654, 7.500974236916367, 20.62837680285263, 25.89416355200421, 17.043228525088953, 5.99517833068389, 3.293890159236521, 3.4460555451993318, 39.58414803313272, 18.197931203129663, 38.086898082656255, 18.67630998852524, 102.41871839743038, 38.11917697893713, 30.319692856991185, 11.105799059758063, 11.380003652420221, 16.93791328943141, 10.171108554826809, 16.495158881097623, 10.091781962593803, 9.46162383225463, 12.096385932475577, 11.865947218984571, 11.926796271471673, 11.611522157282678, 9.561442742584433, 5.567539345724845, 7.461729605691601, 37.31406114056895, 5.020105602236632, 9.449342559748665, 4.370063404794897, 4.2182721202594395, 4.335473282187822, 4.97561721748383, 8.039595574078483, 6.185967231311591, 9.145402478718454, 8.147957000649708, 4.024409299059637, 4.107025942016668, 10.12418504800304, 4.643616090012244, 26.74010811613944, 3.1116159846252516, 5.420178295594058, 3.875019452614391, 3.5374847348637593, 4.227707802276016, 3.0145254307707425, 3.8303514713365825, 2.5137526016061535, 3.1026280331031515, 3.2602541033379064, 15.73560758582232, 4.895961535644213, 9.582863750364329, 14.917500305152583, 12.17768667164903, 6.970769303046136, 35.505113387260245, 16.36346695069885, 9.264228134643693, 56.86963133727435, 24.015010750778497, 17.190050290767154, 18.131391607587467, 21.316976704517984, 16.337506427109222, 14.947251127947018, 16.428645079277768, 29.174778007658922, 11.178102285823817, 13.087015538296054, 15.631188316984066, 12.18402662510899, 9.500944199691563, 9.270341140856766, 11.871881700649334, 9.20622882379286, 9.465154899039206, 9.22970245384746], \"Total\": [670.0, 59.0, 200.0, 265.0, 120.0, 85.0, 111.0, 137.0, 158.0, 713.0, 177.0, 64.0, 239.0, 55.0, 64.0, 86.0, 143.0, 33.0, 88.0, 153.0, 24.0, 60.0, 69.0, 228.0, 46.0, 84.0, 51.0, 149.0, 47.0, 53.0, 67.73731076229198, 137.70040502802507, 200.8995157066347, 68.91001113696778, 65.58542159239505, 69.1626803137918, 153.58275101425758, 69.03845748805155, 143.08931839937281, 75.62567935927817, 149.94237650929475, 73.23153761339539, 74.42786901910611, 80.74213684416564, 81.48786200340938, 172.19887911930488, 85.88363673585266, 87.27376407052472, 83.9691898394023, 88.30088835186115, 86.97581339845287, 713.8688886112675, 96.11732905800652, 14.012437376846172, 186.95735749663558, 101.98134044674165, 92.76139192451623, 124.95067677131019, 10.124144545594442, 12.429670972868694, 137.57887531020214, 153.86395032026581, 141.02101233882044, 247.31101992702753, 228.25320633042196, 177.58563485196214, 196.05738375496782, 670.7466216410446, 135.97424673754097, 239.70636271409663, 128.20620500856998, 9.015729603551966, 9.853461961530517, 32.96269420391999, 14.826222082596265, 6.621287267549404, 47.5224036159649, 18.489193083763737, 15.954372190166099, 16.05469037180885, 15.253548415760452, 18.624509587480894, 29.391777483740224, 15.323702402107244, 17.047162438622113, 11.428501999479455, 35.553401378195886, 21.204601233448525, 15.466198826792596, 9.535849692412736, 26.788270978280277, 84.04288884861506, 10.03268356084185, 9.476072011846163, 8.246577310471874, 7.008643744820851, 9.72135236216877, 55.38836529785876, 9.760965207059733, 18.203872849885418, 9.206349305302625, 88.14668358566372, 60.089906180679925, 670.7466216410446, 48.324034501787175, 69.15043073816805, 26.455169524168163, 239.70636271409663, 196.05738375496782, 265.7361605757459, 713.8688886112675, 228.25320633042196, 247.31101992702753, 111.94077580075036, 96.16393408830855, 186.95735749663558, 53.33519372938346, 128.20620500856998, 138.05178191442909, 135.97424673754097, 172.19887911930488, 65.39631375215549, 200.8995157066347, 136.18877150771613, 86.42380419621395, 158.06118699601274, 149.94237650929475, 141.02101233882044, 11.43177757615537, 14.208941028504968, 12.02794541363641, 9.90353451273447, 15.59095763317349, 21.794645530886854, 9.72392140805582, 20.86907146443641, 14.616851890592889, 18.628061576168992, 9.86484628516867, 15.105073347817083, 9.208658584442777, 10.008627515075004, 10.834417493767166, 28.688528869186875, 8.524531208861648, 18.302149965183297, 111.94077580075036, 9.444335062843987, 13.614804299167394, 17.691813584833874, 8.989182810622223, 69.15043073816805, 12.027256813970187, 13.796833659595581, 8.94550184067573, 11.606693178069968, 9.12755570074094, 11.2129971835127, 265.7361605757459, 43.27864035087661, 36.93882597430775, 32.563332483608015, 24.289318010056274, 48.324034501787175, 31.985265006085633, 19.148310433414466, 247.31101992702753, 239.70636271409663, 136.18877150771613, 670.7466216410446, 54.057165605651406, 85.04537821553323, 228.25320633042196, 120.87195567739154, 29.023196677485384, 713.8688886112675, 158.06118699601274, 177.58563485196214, 196.05738375496782, 135.97424673754097, 65.01558861691699, 138.05178191442909, 57.29060999607623, 124.95067677131019, 128.20620500856998, 153.86395032026581, 141.02101233882044, 51.93035545727022, 186.95735749663558, 24.531480563775506, 33.25045299633702, 9.407529788858787, 10.277306572730879, 26.52014686035191, 9.492680318122808, 16.948018703237036, 8.018953171976285, 9.958463734229381, 14.22793355440934, 10.285730710379102, 8.162877447598053, 19.416235627351593, 8.20993573547719, 8.095871822166252, 9.046449607774065, 10.131514753418664, 86.42380419621395, 12.111517760982727, 11.914726154494696, 9.798385118038745, 22.701222598610894, 59.286989162953205, 11.234931581437701, 43.29786403323789, 14.780985691494552, 11.162588846383517, 8.85437997290781, 9.47531640985131, 12.049111952159231, 25.959778145213697, 96.16393408830855, 60.089906180679925, 27.098549250234743, 670.7466216410446, 51.93035545727022, 54.057165605651406, 38.99056902958961, 228.25320633042196, 153.86395032026581, 137.57887531020214, 158.06118699601274, 239.70636271409663, 120.87195567739154, 136.18877150771613, 37.37002358473556, 141.02101233882044, 713.8688886112675, 65.01558861691699, 196.05738375496782, 88.14668358566372, 59.99211307298528, 265.7361605757459, 138.05178191442909, 84.04288884861506, 247.31101992702753, 16.081411880529977, 14.729561000833886, 10.453841561659152, 13.474566347882444, 21.139945676868976, 9.767144192262878, 11.412443645491908, 12.055045922447375, 10.090042245702126, 20.713050585213573, 11.463360198910628, 14.266924741293137, 21.362836272889982, 17.244512866670608, 10.158432043708121, 55.74518256796995, 17.52344843622003, 13.590922588792917, 14.783425444947712, 32.32117504319028, 9.566587130833643, 85.04537821553323, 16.207775641535427, 18.499693314784146, 51.06738768389394, 64.11575127465119, 42.817564478555525, 15.998104453435882, 8.796920246240237, 9.5084591752047, 120.87195567739154, 54.40455773763869, 158.06118699601274, 65.39631375215549, 670.7466216410446, 177.58563485196214, 265.7361605757459, 43.29786403323789, 51.93035545727022, 136.18877150771613, 44.564300713359884, 247.31101992702753, 52.27162882446797, 41.89743203943279, 111.94077580075036, 124.95067677131019, 138.05178191442909, 196.05738375496782, 186.95735749663558, 7.63251308648932, 11.078263599771619, 59.79762641927027, 8.297953046695788, 16.331104027487633, 7.655693517454942, 7.5266638699955735, 7.977715523828147, 9.299527773926364, 15.077643589056727, 11.752011112521982, 17.732173888510026, 16.058007935872038, 8.442734020813798, 9.213901865274721, 22.74665030265755, 10.861110956755505, 64.66575288473823, 7.783333059393158, 14.122254061980101, 10.724069429770918, 9.833101142155584, 11.763178227301278, 8.409996141866149, 10.956430924515828, 7.193788251769072, 8.979404013772642, 9.492114333068564, 46.0902533313708, 15.35579360869858, 30.57519940124568, 53.33519372938346, 43.27864035087661, 25.001523780310006, 239.70636271409663, 88.14668358566372, 40.18355168226727, 670.7466216410446, 196.05738375496782, 135.97424673754097, 158.06118699601274, 228.25320633042196, 136.18877150771613, 120.87195567739154, 177.58563485196214, 713.8688886112675, 85.04537821553323, 141.02101233882044, 265.7361605757459, 128.20620500856998, 65.01558861691699, 64.11575127465119, 247.31101992702753, 84.04288884861506, 153.86395032026581, 138.05178191442909], \"Category\": [\"Default\", \"Default\", \"Default\", \"Default\", \"Default\", \"Default\", \"Default\", \"Default\", \"Default\", \"Default\", \"Default\", \"Default\", \"Default\", \"Default\", \"Default\", \"Default\", \"Default\", \"Default\", \"Default\", \"Default\", \"Default\", \"Default\", \"Default\", \"Default\", \"Default\", \"Default\", \"Default\", \"Default\", \"Default\", \"Default\", \"Topic1\", \"Topic1\", \"Topic1\", \"Topic1\", \"Topic1\", \"Topic1\", \"Topic1\", \"Topic1\", \"Topic1\", \"Topic1\", \"Topic1\", \"Topic1\", \"Topic1\", \"Topic1\", \"Topic1\", \"Topic1\", \"Topic1\", \"Topic1\", \"Topic1\", \"Topic1\", \"Topic1\", \"Topic1\", \"Topic1\", \"Topic1\", \"Topic1\", \"Topic1\", \"Topic1\", \"Topic1\", \"Topic1\", \"Topic1\", \"Topic1\", \"Topic1\", \"Topic1\", \"Topic1\", \"Topic1\", \"Topic1\", \"Topic1\", \"Topic1\", \"Topic1\", \"Topic1\", \"Topic1\", \"Topic2\", \"Topic2\", \"Topic2\", \"Topic2\", \"Topic2\", \"Topic2\", \"Topic2\", \"Topic2\", \"Topic2\", \"Topic2\", \"Topic2\", \"Topic2\", \"Topic2\", \"Topic2\", \"Topic2\", \"Topic2\", \"Topic2\", \"Topic2\", \"Topic2\", \"Topic2\", \"Topic2\", \"Topic2\", \"Topic2\", \"Topic2\", \"Topic2\", \"Topic2\", \"Topic2\", \"Topic2\", \"Topic2\", \"Topic2\", \"Topic2\", \"Topic2\", \"Topic2\", \"Topic2\", \"Topic2\", \"Topic2\", \"Topic2\", \"Topic2\", \"Topic2\", \"Topic2\", \"Topic2\", \"Topic2\", \"Topic2\", \"Topic2\", \"Topic2\", \"Topic2\", \"Topic2\", \"Topic2\", \"Topic2\", \"Topic2\", \"Topic2\", \"Topic2\", \"Topic2\", \"Topic2\", \"Topic2\", \"Topic2\", \"Topic2\", \"Topic3\", \"Topic3\", \"Topic3\", \"Topic3\", \"Topic3\", \"Topic3\", \"Topic3\", \"Topic3\", \"Topic3\", \"Topic3\", \"Topic3\", \"Topic3\", \"Topic3\", \"Topic3\", \"Topic3\", \"Topic3\", \"Topic3\", \"Topic3\", \"Topic3\", \"Topic3\", \"Topic3\", \"Topic3\", \"Topic3\", \"Topic3\", \"Topic3\", \"Topic3\", \"Topic3\", \"Topic3\", \"Topic3\", \"Topic3\", \"Topic3\", \"Topic3\", \"Topic3\", \"Topic3\", \"Topic3\", \"Topic3\", \"Topic3\", \"Topic3\", \"Topic3\", \"Topic3\", \"Topic3\", \"Topic3\", \"Topic3\", \"Topic3\", \"Topic3\", \"Topic3\", \"Topic3\", \"Topic3\", \"Topic3\", \"Topic3\", \"Topic3\", \"Topic3\", \"Topic3\", \"Topic3\", \"Topic3\", \"Topic3\", \"Topic3\", \"Topic3\", \"Topic3\", \"Topic3\", \"Topic3\", \"Topic4\", \"Topic4\", \"Topic4\", \"Topic4\", \"Topic4\", \"Topic4\", \"Topic4\", \"Topic4\", \"Topic4\", \"Topic4\", \"Topic4\", \"Topic4\", \"Topic4\", \"Topic4\", \"Topic4\", \"Topic4\", \"Topic4\", \"Topic4\", \"Topic4\", \"Topic4\", \"Topic4\", \"Topic4\", \"Topic4\", \"Topic4\", \"Topic4\", \"Topic4\", \"Topic4\", \"Topic4\", \"Topic4\", \"Topic4\", \"Topic4\", \"Topic4\", \"Topic4\", \"Topic4\", \"Topic4\", \"Topic4\", \"Topic4\", \"Topic4\", \"Topic4\", \"Topic4\", \"Topic4\", \"Topic4\", \"Topic4\", \"Topic4\", \"Topic4\", \"Topic4\", \"Topic4\", \"Topic4\", \"Topic4\", \"Topic4\", \"Topic4\", \"Topic4\", \"Topic4\", \"Topic4\", \"Topic4\", \"Topic4\", \"Topic5\", \"Topic5\", \"Topic5\", \"Topic5\", \"Topic5\", \"Topic5\", \"Topic5\", \"Topic5\", \"Topic5\", \"Topic5\", \"Topic5\", \"Topic5\", \"Topic5\", \"Topic5\", \"Topic5\", \"Topic5\", \"Topic5\", \"Topic5\", \"Topic5\", \"Topic5\", \"Topic5\", \"Topic5\", \"Topic5\", \"Topic5\", \"Topic5\", \"Topic5\", \"Topic5\", \"Topic5\", \"Topic5\", \"Topic5\", \"Topic5\", \"Topic5\", \"Topic5\", \"Topic5\", \"Topic5\", \"Topic5\", \"Topic5\", \"Topic5\", \"Topic5\", \"Topic5\", \"Topic5\", \"Topic5\", \"Topic5\", \"Topic5\", \"Topic5\", \"Topic5\", \"Topic5\", \"Topic5\", \"Topic5\", \"Topic6\", \"Topic6\", \"Topic6\", \"Topic6\", \"Topic6\", \"Topic6\", \"Topic6\", \"Topic6\", \"Topic6\", \"Topic6\", \"Topic6\", \"Topic6\", \"Topic6\", \"Topic6\", \"Topic6\", \"Topic6\", \"Topic6\", \"Topic6\", \"Topic6\", \"Topic6\", \"Topic6\", \"Topic6\", \"Topic6\", \"Topic6\", \"Topic6\", \"Topic6\", \"Topic6\", \"Topic6\", \"Topic6\", \"Topic6\", \"Topic6\", \"Topic6\", \"Topic6\", \"Topic6\", \"Topic6\", \"Topic6\", \"Topic6\", \"Topic6\", \"Topic6\", \"Topic6\", \"Topic6\", \"Topic6\", \"Topic6\", \"Topic6\", \"Topic6\", \"Topic6\", \"Topic6\", \"Topic6\", \"Topic6\", \"Topic6\", \"Topic6\", \"Topic6\", \"Topic6\", \"Topic6\", \"Topic6\", \"Topic6\"], \"logprob\": [30.0, 29.0, 28.0, 27.0, 26.0, 25.0, 24.0, 23.0, 22.0, 21.0, 20.0, 19.0, 18.0, 17.0, 16.0, 15.0, 14.0, 13.0, 12.0, 11.0, 10.0, 9.0, 8.0, 7.0, 6.0, 5.0, 4.0, 3.0, 2.0, 1.0, -4.356100082397461, -3.6468000411987305, -3.3094000816345215, -4.381100177764893, -4.440499782562256, -4.391200065612793, -3.6054999828338623, -4.406099796295166, -3.6867001056671143, -4.328400135040283, -3.6659998893737793, -4.390900135040283, -4.402299880981445, -4.34660005569458, -4.341400146484375, -3.600800037384033, -4.309299945831299, -4.303999900817871, -4.345799922943115, -4.298900127410889, -4.329800128936768, -2.254199981689453, -4.274799823760986, -6.205100059509277, -3.6419999599456787, -4.252799987792969, -4.4156999588012695, -4.121099948883057, -6.676000118255615, -6.524600028991699, -4.147299766540527, -4.067500114440918, -4.157100200653076, -3.672499895095825, -3.9605000019073486, -4.097499847412109, -4.130300045013428, -3.92549991607666, -4.261199951171875, -4.236199855804443, -4.321499824523926, -5.967400074005127, -5.905300140380859, -4.73199987411499, -5.551000118255615, -6.375699996948242, -4.428400039672852, -5.387800216674805, -5.538099765777588, -5.548999786376953, -5.6118998527526855, -5.41349983215332, -4.983799934387207, -5.644899845123291, -5.544000148773193, -5.947999954223633, -4.813399791717529, -5.333899974822998, -5.673099994659424, -6.198999881744385, -5.1880998611450195, -4.085700035095215, -6.213799953460693, -6.303199768066406, -6.451900005340576, -6.617099761962891, -6.300000190734863, -4.577600002288818, -6.348899841308594, -5.734499931335449, -6.4309000968933105, -4.185299873352051, -4.615900039672852, -2.536400079727173, -4.946199893951416, -4.750699996948242, -5.512400150299072, -3.8919999599456787, -4.07390022277832, -3.868499994277954, -3.183799982070923, -4.115099906921387, -4.078499794006348, -4.581299781799316, -4.76230001449585, -4.443900108337402, -5.070899963378906, -4.6778998374938965, -4.666100025177002, -4.7546000480651855, -4.717100143432617, -5.052000045776367, -4.739200115203857, -4.884200096130371, -5.008900165557861, -4.951399803161621, -4.978899955749512, -4.983799934387207, -5.310800075531006, -5.263899803161621, -5.5346999168396, -5.740300178527832, -5.345200061798096, -5.065100193023682, -5.895400047302246, -5.140999794006348, -5.507800102233887, -5.268199920654297, -5.915500164031982, -5.536200046539307, -6.058300018310547, -5.979899883270264, -5.924300193786621, -4.965700149536133, -6.185299873352051, -5.431000232696533, -3.6245999336242676, -6.098999977111816, -5.73390007019043, -5.498600006103516, -6.1905999183654785, -4.170000076293945, -5.923500061035156, -5.789299964904785, -6.2256999015808105, -5.969600200653076, -6.2153000831604, -6.022500038146973, -3.1006999015808105, -4.781700134277344, -5.017099857330322, -5.152500152587891, -5.413300037384033, -4.907400131225586, -5.227099895477295, -5.596199989318848, -3.813999891281128, -3.8712000846862793, -4.27869987487793, -3.2479000091552734, -4.902900218963623, -4.640100002288818, -4.09060001373291, -4.525899887084961, -5.322500228881836, -3.8434998989105225, -4.593599796295166, -4.558700084686279, -4.544099807739258, -4.7154998779296875, -4.978099822998047, -4.7153000831604, -5.035600185394287, -4.794899940490723, -4.81820011138916, -4.811200141906738, -4.884699821472168, -5.133999824523926, -5.103600025177002, -4.46150016784668, -4.252600193023682, -5.564499855041504, -5.666999816894531, -4.724699974060059, -5.814499855041504, -5.244900226593018, -6.038700103759766, -5.844399929046631, -5.497300148010254, -5.8404998779296875, -6.073400020599365, -5.233399868011475, -6.110300064086914, -6.144100189208984, -6.049200057983398, -5.936699867248535, -3.7943999767303467, -5.762700080871582, -5.784900188446045, -5.995100021362305, -5.193999767303467, -4.289299964904785, -5.956900119781494, -4.616199970245361, -5.698999881744385, -5.981800079345703, -6.216700077056885, -6.1616997718811035, -5.926000118255615, -5.159599781036377, -4.067599773406982, -4.508900165557861, -5.24970006942749, -2.7109999656677246, -4.815199851989746, -4.799099922180176, -5.040200233459473, -3.867799997329712, -4.179100036621094, -4.252999782562256, -4.1666998863220215, -4.017199993133545, -4.463799953460693, -4.442399978637695, -5.144899845123291, -4.479000091552734, -3.784600019454956, -4.950300216674805, -4.586999893188477, -4.885499954223633, -5.042900085449219, -4.726200103759766, -4.894100189208984, -5.065100193023682, -5.017300128936768, -4.82919979095459, -4.927700042724609, -5.309999942779541, -5.095900058746338, -4.648900032043457, -5.452700138092041, -5.310200214385986, -5.310100078582764, -5.493199825286865, -4.805699825286865, -5.399600028991699, -5.1996002197265625, -4.828999996185303, -5.0543999671936035, -5.584799766540527, -3.8901000022888184, -5.087200164794922, -5.380499839782715, -5.310299873352051, -4.570799827575684, -5.820199966430664, -3.6519999504089355, -5.309899806976318, -5.185699939727783, -4.173999786376953, -3.946700096130371, -4.3649001121521, -5.4096999168396, -6.008600234985352, -5.963500022888184, -3.5223000049591064, -4.2993998527526855, -3.560800075531006, -4.273399829864502, -2.5715999603271484, -3.559999942779541, -3.7888998985290527, -4.7932000160217285, -4.768799781799316, -4.371099948883057, -4.881100177764893, -4.397600173950195, -4.888999938964844, -4.953499794006348, -4.707799911499023, -4.7270002365112305, -4.72189998626709, -4.748700141906738, -4.942999839782715, -5.375899791717529, -5.083099842071533, -3.4735000133514404, -5.479400157928467, -4.84689998626709, -5.618100166320801, -5.653500080108643, -5.626100063323975, -5.48829984664917, -5.008500099182129, -5.270599842071533, -4.8796000480651855, -4.995100021362305, -5.700500011444092, -5.680200099945068, -4.7779998779296875, -5.557400226593018, -3.8066999912261963, -5.957699775695801, -5.4028000831604, -5.73829984664917, -5.829500198364258, -5.651199817657471, -5.9893999099731445, -5.749899864196777, -6.17110013961792, -5.960599899291992, -5.911099910736084, -4.336999893188477, -5.504499912261963, -4.832900047302246, -4.3902997970581055, -4.593299865722656, -5.151199817657471, -3.523200035095215, -4.297800064086914, -4.866700172424316, -3.0520999431610107, -3.9142000675201416, -4.248600006103516, -4.195199966430664, -4.033400058746338, -4.2993998527526855, -4.388400077819824, -4.293900012969971, -3.719599962234497, -4.678899765014648, -4.521299839019775, -4.343599796295166, -4.592800140380859, -4.8414998054504395, -4.866099834442139, -4.61870002746582, -4.873000144958496, -4.845300197601318, -4.870500087738037], \"loglift\": [30.0, 29.0, 28.0, 27.0, 26.0, 25.0, 24.0, 23.0, 22.0, 21.0, 20.0, 19.0, 18.0, 17.0, 16.0, 15.0, 14.0, 13.0, 12.0, 11.0, 10.0, 9.0, 8.0, 7.0, 6.0, 5.0, 4.0, 3.0, 2.0, 1.0, 0.9596, 0.9595, 0.9192, 0.9175, 0.9075, 0.9037, 0.8916, 0.8906, 0.8811, 0.8771, 0.8551, 0.8468, 0.8192, 0.7935, 0.7895, 0.7819, 0.769, 0.7583, 0.7551, 0.7517, 0.736, 0.7065, 0.6909, 0.6863, 0.6585, 0.6538, 0.5856, 0.5823, 0.5405, 0.4867, 0.4599, 0.4277, 0.4254, 0.3482, 0.1404, 0.2544, 0.1226, -0.9026, 0.3577, -0.1843, 0.3562, 1.3649, 1.3382, 1.3039, 1.284, 1.2653, 1.2417, 1.2263, 1.2235, 1.2063, 1.1946, 1.1933, 1.1668, 1.157, 1.1513, 1.1472, 1.1469, 1.1432, 1.1195, 1.0773, 1.0552, 1.0143, 1.0117, 0.9793, 0.9696, 0.9671, 0.957, 0.9393, 0.9041, 0.8952, 0.8805, 0.867, 0.8196, 0.4866, 0.7072, 0.5444, 0.7435, 0.1599, 0.179, 0.0803, -0.2231, -0.0142, -0.0578, 0.2321, 0.203, -0.1435, 0.4838, -0.0002, -0.0624, -0.1357, -0.3344, 0.2988, -0.5106, -0.2669, 0.0631, -0.4831, -0.4578, -0.4014, 1.7841, 1.6136, 1.5094, 1.4982, 1.4395, 1.3846, 1.3614, 1.3521, 1.3414, 1.3385, 1.3269, 1.2801, 1.2529, 1.248, 1.2243, 1.2091, 1.2031, 1.1933, 1.1888, 1.1869, 1.1862, 1.1596, 1.1447, 1.1251, 1.1207, 1.1176, 1.1144, 1.1101, 1.1047, 1.0918, 0.8481, 0.982, 0.9049, 0.8956, 0.928, 0.746, 0.8389, 0.983, 0.2067, 0.1807, 0.3385, -0.2249, 0.6384, 0.448, 0.0102, 0.2107, 0.8407, -0.8829, -0.1252, -0.2068, -0.2912, -0.0967, 0.3787, -0.1116, 0.4476, -0.0914, -0.1405, -0.3159, -0.3023, 0.4474, -0.8031, 1.8699, 1.7747, 1.7254, 1.5344, 1.5287, 1.4663, 1.4563, 1.4108, 1.3885, 1.3788, 1.36, 1.3583, 1.3319, 1.3157, 1.2958, 1.2798, 1.2789, 1.2777, 1.2745, 1.2687, 1.254, 1.2149, 1.1597, 1.1554, 1.1471, 1.1389, 1.1369, 1.1337, 1.121, 1.1164, 1.1152, 0.8977, 0.9266, 0.9821, 0.312, 0.7662, 0.7422, 0.8278, 0.2331, 0.3161, 0.3542, 0.3016, 0.0347, 0.2728, 0.1749, 0.7656, 0.1034, -0.8239, 0.4064, -0.334, 0.1669, 0.3943, -0.7773, -0.2904, 0.0349, -0.9966, 1.9244, 1.9138, 1.8743, 1.8346, 1.8313, 1.7996, 1.7865, 1.7317, 1.7266, 1.6949, 1.6925, 1.6738, 1.6406, 1.6295, 1.6282, 1.6204, 1.5806, 1.5415, 1.5275, 1.4848, 1.4529, 1.4362, 1.436, 1.4279, 1.4242, 1.424, 1.4094, 1.3491, 1.3483, 1.3157, 1.2143, 1.2355, 0.9075, 1.0774, 0.4513, 0.7919, 0.1599, 0.97, 0.8126, 0.2462, 0.8533, -0.3769, 0.6859, 0.8427, 0.1056, -0.0236, -0.1182, -0.4958, -0.6425, 2.123, 2.0433, 1.9669, 1.9359, 1.8913, 1.8778, 1.8594, 1.8286, 1.813, 1.8096, 1.7967, 1.7763, 1.76, 1.6975, 1.6304, 1.629, 1.5888, 1.5554, 1.5216, 1.4808, 1.4205, 1.4161, 1.4151, 1.4125, 1.3875, 1.387, 1.3758, 1.3698, 1.3638, 1.2954, 1.2782, 1.1644, 1.1704, 1.1612, 0.5287, 0.7545, 0.9712, -0.0292, 0.3387, 0.3703, 0.2731, 0.0675, 0.3179, 0.3482, 0.058, -0.7589, 0.4092, 0.0612, -0.3948, 0.0849, 0.5152, 0.5046, -0.598, 0.227, -0.35, -0.2667]}, \"token.table\": {\"Topic\": [1, 2, 3, 4, 5, 6, 1, 2, 3, 4, 5, 6, 1, 2, 3, 4, 5, 1, 2, 3, 4, 5, 6, 2, 3, 4, 5, 6, 1, 2, 3, 4, 5, 6, 4, 5, 6, 1, 2, 3, 4, 5, 6, 1, 2, 3, 4, 5, 1, 2, 3, 4, 5, 6, 1, 2, 3, 4, 5, 1, 2, 3, 6, 1, 2, 3, 4, 5, 1, 2, 4, 6, 1, 3, 4, 5, 1, 2, 3, 4, 5, 1, 3, 4, 1, 2, 3, 4, 5, 6, 1, 2, 3, 4, 6, 3, 4, 5, 6, 1, 2, 3, 4, 5, 6, 1, 2, 4, 6, 1, 2, 3, 5, 6, 1, 2, 3, 4, 5, 6, 2, 3, 4, 5, 6, 1, 2, 3, 4, 5, 6, 2, 3, 4, 5, 6, 2, 3, 4, 5, 6, 2, 4, 5, 1, 2, 3, 4, 5, 6, 2, 3, 4, 6, 1, 2, 3, 4, 5, 6, 1, 2, 3, 4, 5, 6, 2, 4, 5, 6, 1, 4, 5, 6, 1, 2, 3, 5, 6, 2, 3, 5, 1, 2, 4, 5, 6, 1, 2, 3, 5, 6, 1, 2, 3, 4, 5, 6, 1, 2, 3, 6, 1, 2, 3, 6, 1, 2, 3, 4, 5, 6, 1, 2, 3, 4, 5, 6, 2, 5, 6, 1, 2, 3, 6, 2, 3, 4, 5, 1, 2, 3, 4, 6, 1, 2, 3, 4, 5, 6, 1, 2, 3, 4, 5, 6, 1, 2, 3, 4, 5, 6, 1, 2, 3, 4, 5, 6, 1, 2, 4, 6, 4, 6, 1, 2, 3, 4, 5, 6, 2, 3, 4, 1, 2, 3, 4, 5, 6, 1, 2, 3, 4, 5, 6, 3, 6, 2, 3, 5, 1, 2, 3, 4, 5, 6, 1, 2, 3, 4, 6, 1, 2, 3, 5, 1, 2, 3, 4, 2, 4, 6, 1, 4, 6, 1, 2, 3, 4, 5, 6, 2, 3, 4, 6, 1, 2, 3, 5, 1, 2, 3, 5, 2, 3, 4, 5, 6, 1, 2, 4, 6, 1, 2, 5, 6, 1, 2, 3, 4, 6, 1, 2, 3, 1, 2, 3, 4, 5, 6, 1, 3, 5, 1, 2, 3, 4, 5, 6, 1, 2, 3, 4, 6, 1, 2, 3, 4, 5, 6, 1, 2, 3, 4, 5, 2, 3, 4, 5, 6, 1, 2, 3, 4, 5, 6, 1, 2, 4, 5, 6, 2, 3, 4, 5, 1, 2, 3, 4, 1, 2, 3, 4, 6, 1, 2, 3, 4, 6, 1, 2, 4, 6, 1, 2, 3, 4, 5, 6, 1, 2, 4, 5, 1, 3, 1, 2, 3, 4, 6, 1, 2, 3, 6, 1, 2, 3, 4, 5, 6, 1, 2, 3, 2, 3, 4, 5, 6, 1, 2, 3, 4, 6, 1, 2, 3, 4, 5, 6, 1, 2, 3, 4, 5, 6, 1, 2, 3, 4, 5, 6, 2, 4, 5, 6, 1, 2, 3, 4, 1, 3, 4, 1, 2, 3, 4, 5, 6, 2, 4, 6, 2, 6, 1, 2, 3, 4, 5, 6, 2, 3, 4, 6, 2, 4, 1, 2, 3, 4, 5, 6, 1, 2, 3, 4, 5, 6, 2, 3, 4, 1, 2, 3, 4, 5, 6, 1, 2, 3, 4, 5, 6, 1, 2, 3, 4, 5, 6, 1, 2, 3, 4, 5, 1, 3, 4, 5, 2, 3, 4, 5, 6, 1, 2, 3, 4, 5, 6, 1, 3, 1, 2, 3, 5, 6, 2, 3, 6, 1, 2, 4, 1, 2, 3, 4, 5, 6, 1, 2, 6, 1, 2, 3, 4, 5, 6, 1, 2, 3, 4, 1, 2, 3, 4, 5, 6, 1, 2, 3, 4, 5, 6, 1, 2, 3, 4, 1, 2, 4, 5, 6, 1, 2, 3, 4, 5, 2, 3, 4, 1, 2, 3, 4, 5, 6, 1, 2, 3, 4, 5, 6, 1, 2, 3, 4, 5, 6, 2, 4, 6, 1, 2, 3, 4, 5, 6, 1, 2, 3, 4, 5, 6, 1, 2, 3, 4, 6, 2, 3, 4, 6, 3, 5, 1, 2, 4, 5, 1, 2, 3, 4, 5, 6, 1, 2, 3, 4, 6, 1, 2, 3, 4, 5, 6, 1, 2, 3, 4, 5, 6, 1, 2, 3, 4, 5, 6, 1, 2, 3, 4, 5, 6, 1, 2, 3, 4, 5, 6, 1, 2, 3, 4, 5, 6, 2, 3, 4, 6, 2, 4, 6, 1, 2, 3, 4, 5, 6, 1, 2, 3, 4, 5, 1, 2, 4, 1, 2, 3, 1, 2, 3, 4, 5, 6, 1, 2, 3, 4, 5, 6, 1, 2, 3, 4, 6, 3, 4, 5, 6, 1, 2, 3, 4, 5, 6, 1, 2, 3, 4, 5, 6, 2, 4, 5, 3, 4, 6, 1, 2, 3, 4, 5, 6, 2, 3, 4, 5, 6, 1, 2, 3, 4, 5, 1, 2, 3, 4, 5, 6, 2, 3, 4, 6, 1, 2, 3, 4, 5, 6, 1, 2, 3, 4, 6, 1, 2, 3, 5, 6, 1, 2, 3, 4, 6, 2, 3, 6, 1, 3, 4, 5, 6, 1, 3, 4, 6, 2, 4, 5, 6, 2, 3, 4, 5, 6, 1, 2, 3, 4, 5, 6, 1, 2, 3, 4, 6, 1, 2, 3, 4, 5, 6, 1, 2, 3, 4, 5, 6, 1, 2, 3, 4, 5, 6, 1, 4, 1, 2, 3, 5, 1, 2, 3, 4, 5, 6, 1, 2, 3, 1, 2, 3, 1, 4, 1, 2, 3, 5, 6, 2, 6, 2, 6, 1, 2, 3, 4, 5, 6, 1, 2, 4, 6, 1, 2, 3, 4, 1, 2, 3, 4, 5, 6, 1, 2, 3, 4, 6, 1, 2, 3, 4, 5, 6, 1, 2, 4, 5, 6, 1, 2, 3, 5, 1, 2, 3, 4, 5, 6, 1, 2, 3, 4, 5, 2, 3, 4, 5, 6, 1, 2, 3, 4, 5, 6, 1, 2, 3, 4, 6, 1, 2, 3, 4, 1, 2, 3, 4, 5, 6, 2, 3, 4, 5, 6, 1, 2, 3, 4, 6, 2, 4, 6, 1, 2, 3, 4, 5, 6, 1, 2, 3, 4, 5, 2, 3, 4, 5, 6, 1, 2, 3, 4, 5, 6, 2, 3, 4, 1, 2, 3, 4, 5, 6, 2, 3, 6, 1, 2, 3, 4, 1, 2, 3, 5, 6, 1, 2, 3, 1, 2, 3, 4, 5, 6, 1, 2, 3, 4, 5, 6, 2, 3, 4, 5, 6, 1, 2, 4, 5], \"Freq\": [0.7307213099137008, 0.13623617642458827, 0.061925534738449216, 0.03715532084306953, 0.012385106947689843, 0.03715532084306953, 0.019256559890540873, 0.17330903901486786, 0.23107871868649046, 0.30810495824865397, 0.2118221587959496, 0.057769679671622616, 0.0823407227478334, 0.1646814454956668, 0.37053325236525025, 0.2058518068695835, 0.1646814454956668, 0.17951588764864626, 0.044878971912161565, 0.20195537360472707, 0.22439485956080785, 0.22439485956080785, 0.1346369157364847, 0.6267874336142017, 0.06267874336142017, 0.12535748672284033, 0.06267874336142017, 0.12535748672284033, 0.05416299946508759, 0.4874669951857883, 0.10832599893017518, 0.14443466524023357, 0.09027166577514598, 0.10832599893017518, 0.3311266787056742, 0.6149495461676807, 0.04730381124366775, 0.03732977021214965, 0.5599465531822447, 0.0746595404242993, 0.2239786212728979, 0.03732977021214965, 0.11198931063644894, 0.06789068594395901, 0.06789068594395901, 0.06789068594395901, 0.13578137188791803, 0.6789068594395902, 0.11070703351302146, 0.14760937801736193, 0.29521875603472386, 0.36902344504340484, 0.03690234450434048, 0.03690234450434048, 0.17119917982576766, 0.11413278655051178, 0.05706639327525589, 0.11413278655051178, 0.4565311462020471, 0.11844504369493446, 0.23689008738986891, 0.11844504369493446, 0.47378017477973783, 0.10206936282297405, 0.6124161769378442, 0.06804624188198269, 0.10206936282297405, 0.10206936282297405, 0.09207161256169745, 0.27621483768509236, 0.09207161256169745, 0.4603580628084873, 0.20411526755750975, 0.10205763377875487, 0.5102881688937744, 0.20411526755750975, 0.08762365283573736, 0.08762365283573736, 0.08762365283573736, 0.17524730567147473, 0.6133655698501616, 0.37055922646725836, 0.12351974215575279, 0.49407896862301115, 0.047159575838784544, 0.6130744859041991, 0.047159575838784544, 0.18863830335513818, 0.047159575838784544, 0.09431915167756909, 0.06208090923966728, 0.3931790918512261, 0.3104045461983364, 0.12416181847933457, 0.12416181847933457, 0.7068183577286515, 0.10097405110409308, 0.10097405110409308, 0.10097405110409308, 0.0923833101080777, 0.04619165505403885, 0.023095827527019424, 0.4619165505403885, 0.2540541027972137, 0.11547913763509712, 0.2550331162234089, 0.2550331162234089, 0.0850110387411363, 0.3400441549645452, 0.5631685677987373, 0.08045265254267675, 0.1609053050853535, 0.08045265254267675, 0.08045265254267675, 0.10244888479642753, 0.5122444239821377, 0.10244888479642753, 0.20489776959285505, 0.10244888479642753, 0.10244888479642753, 0.6125037209880032, 0.17500106313942948, 0.08750053156971474, 0.08750053156971474, 0.08750053156971474, 0.22691327603058087, 0.13963893909574207, 0.22691327603058087, 0.15709380648270982, 0.10472920432180655, 0.13963893909574207, 0.6490277831831279, 0.054085648598593994, 0.16225694579578198, 0.054085648598593994, 0.10817129719718799, 0.6555851613954745, 0.06555851613954745, 0.19667554841864235, 0.06555851613954745, 0.06555851613954745, 0.07028427537814111, 0.5622742030251289, 0.3514213768907055, 0.11553043162777467, 0.09242434530221974, 0.3928034675344339, 0.09242434530221974, 0.023106086325554935, 0.2772730359066592, 0.118906118758112, 0.356718356274336, 0.118906118758112, 0.356718356274336, 0.19623747735086075, 0.1635312311257173, 0.13082498490057382, 0.06541249245028691, 0.09811873867543038, 0.3270624622514346, 0.035696059965333246, 0.5354408994799986, 0.07139211993066649, 0.15468292651644405, 0.10708817989599974, 0.10708817989599974, 0.7104102118959928, 0.10148717312799899, 0.10148717312799899, 0.10148717312799899, 0.09910761279775138, 0.29732283839325413, 0.5946456767865083, 0.09910761279775138, 0.08295281547936097, 0.16590563095872193, 0.08295281547936097, 0.5806697083555268, 0.08295281547936097, 0.3701926860724731, 0.18509634303623654, 0.4318914670845519, 0.08900810768195465, 0.08900810768195465, 0.44504053840977326, 0.267024323045864, 0.08900810768195465, 0.09967422912679698, 0.49837114563398494, 0.19934845825359396, 0.09967422912679698, 0.09967422912679698, 0.12304741324634272, 0.23071389983689258, 0.21533297318109976, 0.21533297318109976, 0.0769046332789642, 0.1538092665579284, 0.09229845541537245, 0.09229845541537245, 0.4614922770768622, 0.1845969108307449, 0.19536600168294743, 0.13024400112196494, 0.32561000280491237, 0.32561000280491237, 0.4690450107489241, 0.18195711623880675, 0.18195711623880675, 0.05256538913565528, 0.06469586355157574, 0.0485218976636818, 0.8073823341560582, 0.08464492212926417, 0.045578034992680705, 0.013022295712194487, 0.0065111478560972436, 0.03255573928048622, 0.10238407259228938, 0.6143044355537363, 0.20476814518457875, 0.13062173893455964, 0.13062173893455964, 0.13062173893455964, 0.5224869557382386, 0.10041709511506126, 0.20083419023012253, 0.6025025706903676, 0.10041709511506126, 0.689846954637015, 0.1609642894153035, 0.091979593951602, 0.0229948984879005, 0.03449234773185075, 0.14931482531564674, 0.14931482531564674, 0.07465741265782337, 0.273743846412019, 0.12442902109637227, 0.2239722379734701, 0.07732068022021052, 0.20103376857254734, 0.17010549648446313, 0.10824895230829472, 0.04639240813212631, 0.4175316731891368, 0.09176565854974092, 0.09176565854974092, 0.596476780573316, 0.09176565854974092, 0.09176565854974092, 0.04588282927487046, 0.01664173009345652, 0.4326849824298695, 0.03328346018691304, 0.3661180620560434, 0.01664173009345652, 0.13313384074765217, 0.06123284735170714, 0.12246569470341429, 0.18369854205512143, 0.5510956261653643, 0.43412661199216457, 0.43412661199216457, 0.7026386715513411, 0.11909130026293917, 0.09527304021035132, 0.04763652010517566, 0.011909130026293915, 0.035727390078881746, 0.19740384815855325, 0.19740384815855325, 0.49350962039638313, 0.7240342125742788, 0.1472611957778194, 0.06135883157409142, 0.03681529894445485, 0.012271766314818284, 0.012271766314818284, 0.3811556534021161, 0.18838727696886196, 0.1489573817893327, 0.18400617750446982, 0.004381099464392139, 0.09200308875223491, 0.8747545981701218, 0.08747545981701217, 0.21176715848089966, 0.5294178962022491, 0.21176715848089966, 0.06141877527451392, 0.30709387637256963, 0.3685126516470835, 0.15354693818628481, 0.06141877527451392, 0.06141877527451392, 0.26841225425175397, 0.05368245085035079, 0.5368245085035079, 0.05368245085035079, 0.05368245085035079, 0.08313971884726654, 0.08313971884726654, 0.6651177507781323, 0.16627943769453307, 0.0684141843596007, 0.2736567374384028, 0.5473134748768056, 0.0684141843596007, 0.08256603505313773, 0.49539621031882636, 0.3302641402125509, 0.6422865457276827, 0.21409551524256093, 0.0713651717475203, 0.6418575958004727, 0.16581321224845547, 0.06418575958004727, 0.04813931968503545, 0.053488132983372724, 0.026744066491686362, 0.19897008324148105, 0.06632336108049368, 0.19897008324148105, 0.5305868886439494, 0.21911671268548355, 0.10955835634274178, 0.4382334253709671, 0.21911671268548355, 0.3278303374966314, 0.10927677916554379, 0.491745506244947, 0.10927677916554379, 0.6228709348116391, 0.06228709348116391, 0.12457418696232782, 0.06228709348116391, 0.12457418696232782, 0.25695932381903414, 0.12847966190951707, 0.25695932381903414, 0.3854389857285512, 0.2617033703856826, 0.08723445679522752, 0.5234067407713652, 0.08723445679522752, 0.08314447886723896, 0.08314447886723896, 0.4157223943361948, 0.08314447886723896, 0.24943343660171688, 0.8233537071028231, 0.12197832697819601, 0.045741872616823505, 0.016723071798678314, 0.20067686158413978, 0.06689228719471325, 0.06689228719471325, 0.016723071798678314, 0.6187536565510976, 0.20567833861173462, 0.6170350158352038, 0.20567833861173462, 0.08299366824463753, 0.08299366824463753, 0.08299366824463753, 0.4149683412231876, 0.16598733648927505, 0.16598733648927505, 0.5233361578051864, 0.12356548170400233, 0.0799541352202368, 0.20351961692423914, 0.0654170197256483, 0.1435101587522047, 0.1076326190641535, 0.08969384922012792, 0.1435101587522047, 0.4843467857886908, 0.017938769844025586, 0.2500296214243637, 0.06250740535609092, 0.18752221606827274, 0.12501481071218185, 0.3750444321365455, 0.494400289115217, 0.164800096371739, 0.10986673091449267, 0.164800096371739, 0.054933365457246336, 0.06891039681895175, 0.10336559522842764, 0.3445519840947588, 0.06891039681895175, 0.1722759920473794, 0.20673119045685528, 0.13530897341649303, 0.13530897341649303, 0.47358140695772555, 0.20296346012473954, 0.06765448670824652, 0.09844038880186977, 0.29532116640560935, 0.09844038880186977, 0.49220194400934886, 0.8111421088701452, 0.13036212463984476, 0.04345404154661492, 0.014484680515538306, 0.752406332977563, 0.14779410112059274, 0.04030748212379802, 0.01343582737459934, 0.05374330949839736, 0.121803633087985, 0.121803633087985, 0.121803633087985, 0.48721453235194, 0.121803633087985, 0.10169731659861508, 0.10169731659861508, 0.40678926639446034, 0.40678926639446034, 0.1715647057285432, 0.10917754000907295, 0.07798395714933783, 0.09358074857920538, 0.40551657717655665, 0.14037112286880807, 0.07421389113254484, 0.14842778226508968, 0.14842778226508968, 0.5937111290603587, 0.3206987099600158, 0.6413974199200316, 0.10535060629392197, 0.10535060629392197, 0.4214024251756879, 0.10535060629392197, 0.3160518188817659, 0.1723143680388536, 0.0861571840194268, 0.43078592009713407, 0.25847155205828043, 0.22762522678489405, 0.1468549850225123, 0.2055969790315172, 0.16888323277588912, 0.12482673726913544, 0.11748398801800983, 0.8710118446692768, 0.08857747572907901, 0.044288737864539504, 0.587325423310385, 0.06525838036782056, 0.1305167607356411, 0.06525838036782056, 0.1305167607356411, 0.8312613368558998, 0.11448509429751913, 0.03484328956881017, 0.00497761279554431, 0.00995522559108862, 0.6373715006613916, 0.1470857309218596, 0.0980571539479064, 0.06864000776353447, 0.00980571539479064, 0.03922286157916256, 0.10719954292044098, 0.2411989715709922, 0.4823979431419844, 0.04466647621685041, 0.10719954292044098, 0.008933295243370082, 0.039997562100096945, 0.35997805890087253, 0.11999268630029084, 0.07999512420019389, 0.15999024840038778, 0.27998293470067864, 0.26875485976283603, 0.4479247662713934, 0.17916990650855735, 0.08958495325427868, 0.25751644633713217, 0.10300657853485286, 0.05150328926742643, 0.5665361819416908, 0.21068864988339805, 0.10534432494169903, 0.6320659496501941, 0.046810263732116275, 0.09362052746423255, 0.1872410549284651, 0.14043079119634883, 0.514912901053279, 0.046810263732116275, 0.26572197650181184, 0.13286098825090592, 0.5314439530036237, 0.24102329679925003, 0.602558241998125, 0.15119918231277232, 0.41579775136012387, 0.1889989778909654, 0.15119918231277232, 0.03779979557819308, 0.11339938673457924, 0.060149556465300694, 0.030074778232650347, 0.8420937905142096, 0.030074778232650347, 0.106297829764439, 0.850382638115512, 0.07694168294192695, 0.2821195041203988, 0.17953059353116288, 0.3334139594150168, 0.10258891058923593, 0.025647227647308982, 0.053692688943186156, 0.6443122673182339, 0.10738537788637231, 0.10738537788637231, 0.053692688943186156, 0.10738537788637231, 0.2110747455272984, 0.3166121182909476, 0.4221494910545968, 0.03093946920753084, 0.03093946920753084, 0.1546973460376542, 0.2165762844527159, 0.4331525689054318, 0.12375787683012336, 0.4757960037575594, 0.1949983621957211, 0.1247989518052615, 0.07799934487828844, 0.031199737951315375, 0.09359921385394612, 0.14018438004451983, 0.07009219002225991, 0.07009219002225991, 0.07009219002225991, 0.49064533015581946, 0.14018438004451983, 0.07248039837781972, 0.07248039837781972, 0.4348823902669183, 0.36240199188909855, 0.07248039837781972, 0.09565861450087712, 0.09565861450087712, 0.09565861450087712, 0.6696103015061398, 0.22073556672847225, 0.07357852224282409, 0.14715704448564818, 0.4414711334569445, 0.07357852224282409, 0.6709915611140133, 0.15408992008881306, 0.06023515058017238, 0.06303678549087807, 0.009805722187469923, 0.040623706205232535, 0.40548021574485266, 0.5068502696810658, 0.08918222163387092, 0.2675466649016128, 0.4459111081693546, 0.08918222163387092, 0.08918222163387092, 0.27381179333566347, 0.3650823911142179, 0.3650823911142179, 0.1510280342163902, 0.755140171081951, 0.1510280342163902, 0.42796254361088754, 0.09009737760229211, 0.11825280810300841, 0.05631086100143257, 0.21398127180544377, 0.09009737760229211, 0.27801763549381187, 0.27801763549381187, 0.4170264532407178, 0.2753368715486278, 0.22527562217615, 0.17521437280367222, 0.15018374811743332, 0.025030624686238886, 0.15018374811743332, 0.8241438842651906, 0.11566931708985131, 0.04337599390869424, 0.014458664636231414, 0.12409826510985848, 0.05791252371793396, 0.18201078882779245, 0.190284006501783, 0.3309287069596226, 0.12409826510985848, 0.13417883459450985, 0.31308394738718964, 0.11777919925518086, 0.19679562407194776, 0.15206934587377782, 0.0849799285765229, 0.793381302599021, 0.11900719538985313, 0.052892086839934724, 0.026446043419967362, 0.056394664652368046, 0.16918399395710415, 0.16918399395710415, 0.11278932930473609, 0.5075519818713125, 0.1621648504628199, 0.1081099003085466, 0.2162198006170932, 0.1081099003085466, 0.4324396012341864, 0.22108120718224092, 0.22108120718224092, 0.5527030179556023, 0.18758637762914948, 0.18758637762914948, 0.3439083589867741, 0.06252879254304983, 0.18758637762914948, 0.031264396271524914, 0.04338367770056607, 0.33260819570433986, 0.44829800290584937, 0.08676735540113215, 0.01446122590018869, 0.07230612950094345, 0.7104082270348585, 0.10312377489215688, 0.10312377489215688, 0.045832788840958615, 0.011458197210239654, 0.03437459163071896, 0.08509181878959268, 0.255275456368778, 0.510550912737556, 0.09790984475160341, 0.09790984475160341, 0.17623772055288614, 0.15665575160256545, 0.4112213479567343, 0.05874590685096205, 0.20697220837704813, 0.20697220837704813, 0.34244492658747966, 0.06773635910521575, 0.11289393184202626, 0.060210096982414, 0.09324818405445194, 0.18649636810890388, 0.18649636810890388, 0.09324818405445194, 0.37299273621780776, 0.5243371237256691, 0.10486742474513382, 0.10486742474513382, 0.10486742474513382, 0.7037822157146483, 0.14075644314292965, 0.10453048577553267, 0.313591457326598, 0.10453048577553267, 0.4181219431021307, 0.13493685736024824, 0.15180396453027928, 0.08433553585015516, 0.45541189359083784, 0.11806975019021722, 0.05060132151009309, 0.7102633553771619, 0.10479295407204028, 0.10479295407204028, 0.046574646254240126, 0.023287323127120063, 0.15001971990969493, 0.2667017242839021, 0.2000262932129266, 0.21669515098067046, 0.0833442888387194, 0.0833442888387194, 0.08099620313064923, 0.2082759509073837, 0.09256708929217054, 0.5206898772684593, 0.04628354464608527, 0.05785443080760659, 0.05798946063201087, 0.05798946063201087, 0.11597892126402173, 0.05798946063201087, 0.5219051456880978, 0.1739683818960326, 0.7021446913754997, 0.11324914377024188, 0.1019242293932177, 0.05662457188512094, 0.022649828754048376, 0.011324914377024188, 0.20245324363410755, 0.12020661340775136, 0.13285994113488309, 0.1961265797705417, 0.24041322681550273, 0.1138799495441855, 0.5069413585030412, 0.11048721916091925, 0.11048721916091925, 0.1949774455780928, 0.012998496371872852, 0.05849323367342783, 0.514331732224603, 0.10286634644492061, 0.30859903933476185, 0.10286634644492061, 0.6744806562514993, 0.13489613125029987, 0.06744806562514993, 0.427375867097253, 0.1810914691090055, 0.13038585775848396, 0.10865488146540331, 0.08692390517232264, 0.06519292887924198, 0.11367614710698273, 0.22735229421396547, 0.11367614710698273, 0.22735229421396547, 0.34102844132094823, 0.5926426645706991, 0.09877377742844985, 0.29632133228534957, 0.10862068848767505, 0.4344827539507002, 0.32586206546302515, 0.09249467566381754, 0.2034882864603986, 0.27748402699145264, 0.29598296212421615, 0.03699787026552702, 0.09249467566381754, 0.6658528761382476, 0.12484741427592143, 0.05201975594830059, 0.062423707137960714, 0.010403951189660119, 0.09363556070694107, 0.24364607598140278, 0.21657428976124693, 0.3519332208620262, 0.13535893110077932, 0.05414357244031173, 0.22587691132744475, 0.4517538226548895, 0.11293845566372238, 0.11293845566372238, 0.47067736380649733, 0.16914967761795996, 0.13237800857057738, 0.058834670475812166, 0.036771669047382605, 0.12502367476110085, 0.03033732600295391, 0.69775849806794, 0.03033732600295391, 0.15168663001476956, 0.03033732600295391, 0.06067465200590782, 0.7764208009568276, 0.11091725727954681, 0.11091725727954681, 0.4471521074213815, 0.22357605371069075, 0.22357605371069075, 0.09190406480486563, 0.2205697555316775, 0.14704650368778502, 0.16542731664875812, 0.33085463329751624, 0.05514243888291938, 0.6733666137469901, 0.021042706679593442, 0.2525124801551213, 0.021042706679593442, 0.042085413359186884, 0.26254592380857805, 0.16707467878727694, 0.16707467878727694, 0.19094249004260225, 0.21481030129792753, 0.592919089061921, 0.14014451196009042, 0.07546242951697177, 0.05390173536926555, 0.08624277659082487, 0.05390173536926555, 0.09722206697390223, 0.09722206697390223, 0.5833324018434134, 0.09722206697390223, 0.05900394715808297, 0.05900394715808297, 0.11800789431616594, 0.5900394715808297, 0.05900394715808297, 0.05900394715808297, 0.796705171813158, 0.12579555344418286, 0.04193185114806095, 0.027954567432040636, 0.006988641858010159, 0.1352866429670065, 0.06764332148350324, 0.270573285934013, 0.4735032503845227, 0.06764332148350324, 0.5034710701793411, 0.12764055300321325, 0.10636712750267771, 0.16309626217077247, 0.092184843835654, 0.3736453502801291, 0.06227422504668818, 0.4981938003735054, 0.06218359478813648, 0.06218359478813648, 0.06218359478813648, 0.6840195426695013, 0.12436718957627296, 0.10859344939657255, 0.5429672469828627, 0.32578034818971763, 0.10859344939657255, 0.1253491675672267, 0.1253491675672267, 0.1253491675672267, 0.5013966702689068, 0.5819141536192467, 0.0646571281799163, 0.1939713845397489, 0.0646571281799163, 0.1293142563598326, 0.37233996803321256, 0.22952463782869267, 0.11221204516069419, 0.10201095014608563, 0.061206570087651374, 0.12241314017530275, 0.09730175828882379, 0.09730175828882379, 0.09730175828882379, 0.6811123080217665, 0.09730175828882379, 0.15598363505204885, 0.2391749070798082, 0.0935901810312293, 0.35356290611797736, 0.07279236302428946, 0.0935901810312293, 0.10848280576919302, 0.30375185615374045, 0.0433931223076772, 0.0433931223076772, 0.1735724892307088, 0.3471449784614176, 0.13379707905890478, 0.13379707905890478, 0.18731591068246667, 0.3211129897413715, 0.16055649487068574, 0.053518831623561906, 0.04076394807888821, 0.9375708058144289, 0.10516951080861865, 0.31550853242585597, 0.10516951080861865, 0.31550853242585597, 0.05222392876266333, 0.15667178628798997, 0.41779143010130665, 0.20889571505065332, 0.05222392876266333, 0.20889571505065332, 0.11124481736185549, 0.33373445208556646, 0.44497926944742194, 0.4521865416249874, 0.056523317703123424, 0.4521865416249874, 0.2494091132729606, 0.6235227831824015, 0.11136596576634668, 0.22273193153269336, 0.11136596576634668, 0.22273193153269336, 0.33409789729904005, 0.1310184455196216, 0.7861106731177296, 0.2708005612054443, 0.6318679761460367, 0.13391585755834245, 0.2678317151166849, 0.13391585755834245, 0.1721775311464403, 0.19130836794048922, 0.09565418397024461, 0.10552895743614936, 0.5276447871807468, 0.21105791487229872, 0.21105791487229872, 0.3310146124330192, 0.06620292248660385, 0.5296233798928308, 0.06620292248660385, 0.15291381770995305, 0.25995349010692015, 0.12233105416796243, 0.16820519948094834, 0.2905362536489108, 0.015291381770995304, 0.8641949889383468, 0.08714571317025346, 0.03631071382093894, 0.007262142764187788, 0.007262142764187788, 0.07941308413716075, 0.45378905221234717, 0.034034178915926035, 0.1701708945796302, 0.06806835783185207, 0.18151562088493886, 0.09655748156322952, 0.19311496312645904, 0.09655748156322952, 0.5310661485977624, 0.04827874078161476, 0.23958900176850922, 0.09583560070740368, 0.5750136042444222, 0.04791780035370184, 0.5922336870206618, 0.08803473725982812, 0.136053684856098, 0.06402526346169317, 0.09603789519253976, 0.02400947379813494, 0.24399996360630402, 0.13942855063217374, 0.48799992721260804, 0.034857137658043436, 0.06971427531608687, 0.6187874900062899, 0.08438011227358498, 0.14063352045597496, 0.05625340818238999, 0.08438011227358498, 0.11249607586396515, 0.3187388816145679, 0.09374672988663763, 0.18749345977327525, 0.018749345977327525, 0.2812401896599129, 0.780299757305416, 0.12004611650852554, 0.05335382955934469, 0.033346143474590424, 0.013338457389836172, 0.8271657348408339, 0.11609343646888896, 0.02902335911722224, 0.01451167955861112, 0.11677450739880751, 0.11677450739880751, 0.11677450739880751, 0.21019411331785354, 0.3970333251559455, 0.023354901479761502, 0.2637751018354999, 0.04396251697258332, 0.17585006789033328, 0.08792503394516664, 0.4396251697258332, 0.07081022587549941, 0.42486135525299645, 0.07081022587549941, 0.07081022587549941, 0.35405112937749705, 0.2150646837796988, 0.1075323418898494, 0.5376617094492471, 0.7259048411888676, 0.13937372950826257, 0.06387962602462034, 0.02322895491804376, 0.01161447745902188, 0.04065067110657658, 0.04405049092207002, 0.13215147276621006, 0.22025245461035012, 0.4845554001427702, 0.08810098184414004, 0.03770718183672722, 0.11312154551018166, 0.67872927306109, 0.03770718183672722, 0.1508287273469089, 0.07055057107035267, 0.09406742809380356, 0.2351685702345089, 0.058792142558627226, 0.41154499791039056, 0.1293427136289799, 0.09991379921910364, 0.49956899609551814, 0.2997413976573109, 0.7783531775737788, 0.12289787014322823, 0.04096595671440941, 0.04096595671440941, 0.013655318904803137, 0.013655318904803137, 0.5707238298359598, 0.14268095745898995, 0.2853619149179799, 0.12250582057853295, 0.12250582057853295, 0.12250582057853295, 0.6125291028926647, 0.11730850359964116, 0.23461700719928233, 0.46923401439856466, 0.11730850359964116, 0.11730850359964116, 0.44069674952044124, 0.07344945825340687, 0.5141462077738481, 0.08392975105204255, 0.08392975105204255, 0.1678595021040851, 0.5035785063122552, 0.08392975105204255, 0.08392975105204255, 0.23112678261105413, 0.19260565217587844, 0.03852113043517569, 0.42373243478693257, 0.03852113043517569, 0.07704226087035138, 0.5866078906683005, 0.05866078906683005, 0.17598236720049015, 0.05866078906683005, 0.1173215781336601, 0.12126242953305671, 0.48504971813222686, 0.12126242953305671, 0.24252485906611343], \"Term\": [\"access\", \"access\", \"access\", \"access\", \"access\", \"access\", \"account\", \"account\", \"account\", \"account\", \"account\", \"account\", \"action\", \"action\", \"action\", \"action\", \"action\", \"add\", \"add\", \"add\", \"add\", \"add\", \"add\", \"addr_ship\", \"addr_ship\", \"addr_ship\", \"addr_ship\", \"addr_ship\", \"address\", \"address\", \"address\", \"address\", \"address\", \"address\", \"amazon\", \"amazon\", \"amazon\", \"amount\", \"amount\", \"amount\", \"amount\", \"amount\", \"amount\", \"answer\", \"answer\", \"answer\", \"answer\", \"answer\", \"antibody\", \"antibody\", \"antibody\", \"antibody\", \"antibody\", \"antibody\", \"anything\", \"anything\", \"anything\", \"anything\", \"anything\", \"apply\", \"apply\", \"apply\", \"apply\", \"approve\", \"approve\", \"approve\", \"approve\", \"approve\", \"approximately\", \"approximately\", \"approximately\", \"approximately\", \"arbor\", \"arbor\", \"arbor\", \"arbor\", \"ask\", \"ask\", \"ask\", \"ask\", \"ask\", \"assay\", \"assay\", \"assay\", \"assign\", \"assign\", \"assign\", \"assign\", \"assign\", \"assign\", \"attachment\", \"attachment\", \"attachment\", \"attachment\", \"attachment\", \"attention\", \"attention\", \"attention\", \"attention\", \"available\", \"available\", \"available\", \"available\", \"available\", \"available\", \"base\", \"base\", \"base\", \"base\", \"bernal_ashlyn\", \"bernal_ashlyn\", \"bernal_ashlyn\", \"bernal_ashlyn\", \"bernal_ashlyn\", \"bill\", \"bill\", \"bill\", \"bill\", \"bill\", \"bill\", \"billing\", \"billing\", \"billing\", \"billing\", \"billing\", \"business\", \"business\", \"business\", \"business\", \"business\", \"business\", \"campus\", \"campus\", \"campus\", \"campus\", \"campus\", \"campus_buyer\", \"campus_buyer\", \"campus_buyer\", \"campus_buyer\", \"campus_buyer\", \"cart\", \"cart\", \"cart\", \"case\", \"case\", \"case\", \"case\", \"case\", \"case\", \"caution\", \"caution\", \"caution\", \"caution\", \"cell\", \"cell\", \"cell\", \"cell\", \"cell\", \"cell\", \"change\", \"change\", \"change\", \"change\", \"change\", \"change\", \"changedaccess\", \"changedaccess\", \"changedaccess\", \"changedaccess\", \"chart_string\", \"chart_string\", \"chart_string\", \"chart_string\", \"close\", \"close\", \"close\", \"close\", \"close\", \"code\", \"code\", \"code\", \"cole_parmer\", \"cole_parmer\", \"cole_parmer\", \"cole_parmer\", \"cole_parmer\", \"communication\", \"communication\", \"communication\", \"communication\", \"communication\", \"company\", \"company\", \"company\", \"company\", \"company\", \"company\", \"concern\", \"concern\", \"concern\", \"concern\", \"condition\", \"condition\", \"condition\", \"condition\", \"contact\", \"contact\", \"contact\", \"contact\", \"contact\", \"contact\", \"content\", \"content\", \"content\", \"content\", \"content\", \"content\", \"continue\", \"continue\", \"continue\", \"cst\", \"cst\", \"cst\", \"cst\", \"custom\", \"custom\", \"custom\", \"custom\", \"delete\", \"delete\", \"delete\", \"delete\", \"delete\", \"deliver\", \"deliver\", \"deliver\", \"deliver\", \"deliver\", \"deliver\", \"delivery\", \"delivery\", \"delivery\", \"delivery\", \"delivery\", \"delivery\", \"department\", \"department\", \"department\", \"department\", \"department\", \"department\", \"description\", \"description\", \"description\", \"description\", \"description\", \"description\", \"destination\", \"destination\", \"destination\", \"destination\", \"digest\", \"digest\", \"directly\", \"directly\", \"directly\", \"directly\", \"directly\", \"directly\", \"disclaims\", \"disclaims\", \"disclaims\", \"disclosure\", \"disclosure\", \"disclosure\", \"disclosure\", \"disclosure\", \"disclosure\", \"document\", \"document\", \"document\", \"document\", \"document\", \"document\", \"docusign\", \"docusign\", \"drivela_jolla\", \"drivela_jolla\", \"drivela_jolla\", \"due\", \"due\", \"due\", \"due\", \"due\", \"due\", \"duplicate\", \"duplicate\", \"duplicate\", \"duplicate\", \"duplicate\", \"effect\", \"effect\", \"effect\", \"effect\", \"electronic\", \"electronic\", \"electronic\", \"electronic\", \"email\", \"email\", \"email\", \"equipment\", \"equipment\", \"equipment\", \"error\", \"error\", \"error\", \"error\", \"error\", \"error\", \"estimate\", \"estimate\", \"estimate\", \"estimate\", \"exist\", \"exist\", \"exist\", \"exist\", \"experience\", \"experience\", \"experience\", \"experience\", \"expiration\", \"expiration\", \"expiration\", \"expiration\", \"expiration\", \"export\", \"export\", \"export\", \"export\", \"ext\", \"ext\", \"ext\", \"ext\", \"external\", \"external\", \"external\", \"external\", \"external\", \"fast\", \"fast\", \"fast\", \"fedex\", \"fedex\", \"fedex\", \"fedex\", \"fedex\", \"fedex\", \"feedback\", \"feedback\", \"feedback\", \"feel\", \"feel\", \"feel\", \"feel\", \"feel\", \"feel\", \"file\", \"file\", \"file\", \"file\", \"file\", \"find\", \"find\", \"find\", \"find\", \"find\", \"find\", \"first\", \"first\", \"first\", \"first\", \"first\", \"fisher_scientific\", \"fisher_scientific\", \"fisher_scientific\", \"fisher_scientific\", \"fisher_scientific\", \"follow\", \"follow\", \"follow\", \"follow\", \"follow\", \"follow\", \"found\", \"found\", \"found\", \"found\", \"found\", \"fund\", \"fund\", \"fund\", \"fund\", \"german_french\", \"german_french\", \"german_french\", \"german_french\", \"guarantee\", \"guarantee\", \"guarantee\", \"guarantee\", \"guarantee\", \"handle\", \"handle\", \"handle\", \"handle\", \"handle\", \"health\", \"health\", \"health\", \"health\", \"help\", \"help\", \"help\", \"help\", \"help\", \"help\", \"history\", \"history\", \"history\", \"history\", \"href\", \"href\", \"individual\", \"individual\", \"individual\", \"individual\", \"individual\", \"inform\", \"inform\", \"inform\", \"inform\", \"information\", \"information\", \"information\", \"information\", \"information\", \"information\", \"initial\", \"initial\", \"initial\", \"initiate\", \"initiate\", \"initiate\", \"initiate\", \"initiate\", \"inquiry\", \"inquiry\", \"inquiry\", \"inquiry\", \"inquiry\", \"intended_recipient\", \"intended_recipient\", \"intended_recipient\", \"intended_recipient\", \"intended_recipient\", \"intended_recipient\", \"invoice\", \"invoice\", \"invoice\", \"invoice\", \"invoice\", \"invoice\", \"jolla\", \"jolla\", \"jolla\", \"jolla\", \"jolla\", \"jolla\", \"keep\", \"keep\", \"keep\", \"keep\", \"kit\", \"kit\", \"kit\", \"kit\", \"kitsk_citations\", \"kitsk_citations\", \"kitsk_citations\", \"lab\", \"lab\", \"lab\", \"lab\", \"lab\", \"lab\", \"late\", \"late\", \"late\", \"law\", \"law\", \"legal\", \"legal\", \"legal\", \"legal\", \"legal\", \"legal\", \"lifespan\", \"lifespan\", \"lifespan\", \"lifespan\", \"limited\", \"limited\", \"line\", \"line\", \"line\", \"line\", \"line\", \"line\", \"location\", \"location\", \"location\", \"location\", \"location\", \"location\", \"longer\", \"longer\", \"longer\", \"look\", \"look\", \"look\", \"look\", \"look\", \"look\", \"mail\", \"mail\", \"mail\", \"mail\", \"mail\", \"mail\", \"many\", \"many\", \"many\", \"many\", \"many\", \"many\", \"material\", \"material\", \"material\", \"material\", \"material\", \"meantime\", \"meantime\", \"meantime\", \"meantime\", \"medical\", \"medical\", \"medical\", \"medical\", \"medical\", \"message\", \"message\", \"message\", \"message\", \"message\", \"message\", \"metrohm\", \"metrohm\", \"miss\", \"miss\", \"miss\", \"miss\", \"miss\", \"money\", \"money\", \"money\", \"nathan\", \"nathan\", \"nathan\", \"need\", \"need\", \"need\", \"need\", \"need\", \"need\", \"north\", \"north\", \"north\", \"number\", \"number\", \"number\", \"number\", \"number\", \"number\", \"omission\", \"omission\", \"omission\", \"omission\", \"oracle\", \"oracle\", \"oracle\", \"oracle\", \"oracle\", \"oracle\", \"order\", \"order\", \"order\", \"order\", \"order\", \"order\", \"otherwise\", \"otherwise\", \"otherwise\", \"otherwise\", \"package\", \"package\", \"package\", \"package\", \"package\", \"page\", \"page\", \"page\", \"page\", \"page\", \"park\", \"park\", \"park\", \"pay\", \"pay\", \"pay\", \"pay\", \"pay\", \"pay\", \"payment\", \"payment\", \"payment\", \"payment\", \"payment\", \"payment\", \"person\", \"person\", \"person\", \"person\", \"person\", \"person\", \"personal\", \"personal\", \"personal\", \"place\", \"place\", \"place\", \"place\", \"place\", \"place\", \"po\", \"po\", \"po\", \"po\", \"po\", \"po\", \"policy\", \"policy\", \"policy\", \"policy\", \"policy\", \"prefer\", \"prefer\", \"prefer\", \"prefer\", \"prepayment\", \"prepayment\", \"previous\", \"previous\", \"previous\", \"previous\", \"price\", \"price\", \"price\", \"price\", \"price\", \"price\", \"privileged\", \"privileged\", \"privileged\", \"privileged\", \"privileged\", \"procurement\", \"procurement\", \"procurement\", \"procurement\", \"procurement\", \"procurement\", \"product\", \"product\", \"product\", \"product\", \"product\", \"product\", \"project\", \"project\", \"project\", \"project\", \"project\", \"project\", \"provide\", \"provide\", \"provide\", \"provide\", \"provide\", \"provide\", \"purchase\", \"purchase\", \"purchase\", \"purchase\", \"purchase\", \"purchase\", \"purchasing\", \"purchasing\", \"purchasing\", \"purchasing\", \"purchasing\", \"purchasing\", \"qty\", \"qty\", \"qty\", \"qty\", \"quantity\", \"quantity\", \"quantity\", \"question\", \"question\", \"question\", \"question\", \"question\", \"question\", \"quickly\", \"quickly\", \"quickly\", \"quickly\", \"quickly\", \"rate\", \"rate\", \"rate\", \"read\", \"read\", \"read\", \"receive\", \"receive\", \"receive\", \"receive\", \"receive\", \"receive\", \"reference\", \"reference\", \"reference\", \"reference\", \"reference\", \"reference\", \"register\", \"register\", \"register\", \"register\", \"register\", \"replacement\", \"replacement\", \"replacement\", \"replacement\", \"request\", \"request\", \"request\", \"request\", \"request\", \"request\", \"requester\", \"requester\", \"requester\", \"requester\", \"requester\", \"requester\", \"requester_creation\", \"requester_creation\", \"requester_creation\", \"requirement\", \"requirement\", \"requirement\", \"requisition\", \"requisition\", \"requisition\", \"requisition\", \"requisition\", \"requisition\", \"requisition_req\", \"requisition_req\", \"requisition_req\", \"requisition_req\", \"requisition_req\", \"research\", \"research\", \"research\", \"research\", \"research\", \"respond\", \"respond\", \"respond\", \"respond\", \"respond\", \"respond\", \"responsibility\", \"responsibility\", \"responsibility\", \"responsibility\", \"responsible\", \"responsible\", \"responsible\", \"responsible\", \"responsible\", \"responsible\", \"result\", \"result\", \"result\", \"result\", \"result\", \"return\", \"return\", \"return\", \"return\", \"return\", \"review\", \"review\", \"review\", \"review\", \"review\", \"schedule\", \"schedule\", \"schedule\", \"search\", \"search\", \"search\", \"search\", \"search\", \"secure\", \"secure\", \"secure\", \"secure\", \"select\", \"select\", \"select\", \"select\", \"sell\", \"sell\", \"sell\", \"sell\", \"sell\", \"service\", \"service\", \"service\", \"service\", \"service\", \"service\", \"shall\", \"shall\", \"shall\", \"shall\", \"shall\", \"ship\", \"ship\", \"ship\", \"ship\", \"ship\", \"ship\", \"shipment\", \"shipment\", \"shipment\", \"shipment\", \"shipment\", \"shipment\", \"shipping\", \"shipping\", \"shipping\", \"shipping\", \"shipping\", \"shipping\", \"shop\", \"shop\", \"show\", \"show\", \"show\", \"show\", \"sign\", \"sign\", \"sign\", \"sign\", \"sign\", \"sign\", \"signature\", \"signature\", \"signature\", \"span\", \"span\", \"span\", \"specific\", \"specific\", \"st\", \"st\", \"st\", \"st\", \"st\", \"standard\", \"standard\", \"standard_transit\", \"standard_transit\", \"status\", \"status\", \"status\", \"status\", \"status\", \"status\", \"stock\", \"stock\", \"stock\", \"stock\", \"strong\", \"strong\", \"strong\", \"strong\", \"submit\", \"submit\", \"submit\", \"submit\", \"submit\", \"submit\", \"subsidiary\", \"subsidiary\", \"subsidiary\", \"subsidiary\", \"subsidiary\", \"supplier\", \"supplier\", \"supplier\", \"supplier\", \"supplier\", \"supplier\", \"supply\", \"supply\", \"supply\", \"supply\", \"supply\", \"survey\", \"survey\", \"survey\", \"survey\", \"system\", \"system\", \"system\", \"system\", \"system\", \"system\", \"take\", \"take\", \"take\", \"take\", \"take\", \"task\", \"task\", \"task\", \"task\", \"task\", \"track\", \"track\", \"track\", \"track\", \"track\", \"track\", \"transmission\", \"transmission\", \"transmission\", \"transmission\", \"transmission\", \"transmit\", \"transmit\", \"transmit\", \"transmit\", \"try\", \"try\", \"try\", \"try\", \"try\", \"try\", \"type\", \"type\", \"type\", \"type\", \"type\", \"unit\", \"unit\", \"unit\", \"unit\", \"unit\", \"univ\", \"univ\", \"univ\", \"update\", \"update\", \"update\", \"update\", \"update\", \"update\", \"use\", \"use\", \"use\", \"use\", \"use\", \"user\", \"user\", \"user\", \"user\", \"user\", \"vendor\", \"vendor\", \"vendor\", \"vendor\", \"vendor\", \"vendor\", \"verify\", \"verify\", \"verify\", \"virus\", \"virus\", \"virus\", \"virus\", \"virus\", \"virus\", \"vwr\", \"vwr\", \"vwr\", \"want\", \"want\", \"want\", \"want\", \"whether\", \"whether\", \"whether\", \"whether\", \"whether\", \"width\", \"width\", \"width\", \"wish\", \"wish\", \"wish\", \"wish\", \"wish\", \"wish\", \"work\", \"work\", \"work\", \"work\", \"work\", \"work\", \"workspace_application\", \"workspace_application\", \"workspace_application\", \"workspace_application\", \"workspace_application\", \"yes\", \"yes\", \"yes\", \"yes\"]}, \"R\": 30, \"lambda.step\": 0.01, \"plot.opts\": {\"xlab\": \"PC1\", \"ylab\": \"PC2\"}, \"topic.order\": [2, 5, 3, 1, 6, 4]};\n",
       "\n",
       "function LDAvis_load_lib(url, callback){\n",
       "  var s = document.createElement('script');\n",
       "  s.src = url;\n",
       "  s.async = true;\n",
       "  s.onreadystatechange = s.onload = callback;\n",
       "  s.onerror = function(){console.warn(\"failed to load library \" + url);};\n",
       "  document.getElementsByTagName(\"head\")[0].appendChild(s);\n",
       "}\n",
       "\n",
       "if(typeof(LDAvis) !== \"undefined\"){\n",
       "   // already loaded: just create the visualization\n",
       "   !function(LDAvis){\n",
       "       new LDAvis(\"#\" + \"ldavis_el234051402486881876001665363839\", ldavis_el234051402486881876001665363839_data);\n",
       "   }(LDAvis);\n",
       "}else if(typeof define === \"function\" && define.amd){\n",
       "   // require.js is available: use it to load d3/LDAvis\n",
       "   require.config({paths: {d3: \"https://cdnjs.cloudflare.com/ajax/libs/d3/3.5.5/d3.min\"}});\n",
       "   require([\"d3\"], function(d3){\n",
       "      window.d3 = d3;\n",
       "      LDAvis_load_lib(\"https://cdn.rawgit.com/bmabey/pyLDAvis/files/ldavis.v1.0.0.js\", function(){\n",
       "        new LDAvis(\"#\" + \"ldavis_el234051402486881876001665363839\", ldavis_el234051402486881876001665363839_data);\n",
       "      });\n",
       "    });\n",
       "}else{\n",
       "    // require.js not available: dynamically load d3 & LDAvis\n",
       "    LDAvis_load_lib(\"https://cdnjs.cloudflare.com/ajax/libs/d3/3.5.5/d3.min.js\", function(){\n",
       "         LDAvis_load_lib(\"https://cdn.rawgit.com/bmabey/pyLDAvis/files/ldavis.v1.0.0.js\", function(){\n",
       "                 new LDAvis(\"#\" + \"ldavis_el234051402486881876001665363839\", ldavis_el234051402486881876001665363839_data);\n",
       "            })\n",
       "         });\n",
       "}\n",
       "</script>"
      ],
      "text/plain": [
       "PreparedData(topic_coordinates=              x         y  topics  cluster       Freq\n",
       "topic                                                \n",
       "1     -0.184744 -0.032322       1        1  33.127254\n",
       "4     -0.026772  0.022620       2        1  19.268063\n",
       "2     -0.004141 -0.043500       3        1  14.713236\n",
       "0      0.046357  0.038191       4        1  14.438503\n",
       "5      0.136850 -0.074744       5        1   9.723371\n",
       "3      0.032450  0.089755       6        1   8.729573, topic_info=           Term        Freq       Total Category  logprob  loglift\n",
       "3         order  670.000000  670.000000  Default  30.0000  30.0000\n",
       "29        fedex   59.000000   59.000000  Default  29.0000  29.0000\n",
       "145     inquiry  200.000000  200.000000  Default  28.0000  28.0000\n",
       "11           po  265.000000  265.000000  Default  27.0000  27.0000\n",
       "2        oracle  120.000000  120.000000  Default  26.0000  26.0000\n",
       "..          ...         ...         ...      ...      ...      ...\n",
       "76         help    9.270341   64.115751   Topic6  -4.8661   0.5046\n",
       "22      contact   11.871882  247.311020   Topic6  -4.6187  -0.5980\n",
       "123      change    9.206229   84.042889   Topic6  -4.8730   0.2270\n",
       "146  purchasing    9.465155  153.863950   Topic6  -4.8453  -0.3500\n",
       "71     question    9.229702  138.051782   Topic6  -4.8705  -0.2667\n",
       "\n",
       "[350 rows x 6 columns], token_table=      Topic      Freq                   Term\n",
       "term                                        \n",
       "14        1  0.730721                 access\n",
       "14        2  0.136236                 access\n",
       "14        3  0.061926                 access\n",
       "14        4  0.037155                 access\n",
       "14        5  0.012385                 access\n",
       "...     ...       ...                    ...\n",
       "346       6  0.117322  workspace_application\n",
       "427       1  0.121262                    yes\n",
       "427       2  0.485050                    yes\n",
       "427       4  0.121262                    yes\n",
       "427       5  0.242525                    yes\n",
       "\n",
       "[1070 rows x 3 columns], R=30, lambda_step=0.01, plot_opts={'xlab': 'PC1', 'ylab': 'PC2'}, topic_order=[2, 5, 3, 1, 6, 4])"
      ]
     },
     "execution_count": 57,
     "metadata": {},
     "output_type": "execute_result"
    }
   ],
   "source": [
    "# Visualize the topics\n",
    "pyLDAvis.enable_notebook()\n",
    "vis = pyLDAvis.gensim.prepare(lda_model, corpus, id2word)\n",
    "vis"
   ]
  },
  {
   "cell_type": "markdown",
   "metadata": {},
   "source": [
    "#### Building Topic Model and Visualization (Mallet)\n",
    "\n",
    "Constructing LDA model, but using Mallet instead of Gensim. Tutorial still being implemented and followed."
   ]
  },
  {
   "cell_type": "code",
   "execution_count": 58,
   "metadata": {
    "tags": []
   },
   "outputs": [],
   "source": [
    "# Download File: http://mallet.cs.umass.edu/dist/mallet-2.0.8.zip\n",
    "# make sure to put the zip file into the same directory/path as your notebook, otherwise you'll get a directory/path related error\n",
    "mallet_path =  'mallet-2.0.8/bin/mallet' # update this path\n",
    "ldamallet = gensim.models.wrappers.LdaMallet(mallet_path, corpus=corpus, num_topics=6, id2word=id2word)"
   ]
  },
  {
   "cell_type": "markdown",
   "metadata": {},
   "source": [
    "Topics and their associated keywords are generated much like what was done previously. A coherence score is also calculated to judge the results of the topics. Compared to Gensim, the coherence score is greater than the one generated by Gensim. The text data used here has not been changed and is the exact same one used during the Gensim procedures."
   ]
  },
  {
   "cell_type": "code",
   "execution_count": 59,
   "metadata": {
    "tags": []
   },
   "outputs": [
    {
     "name": "stdout",
     "output_type": "stream",
     "text": [
      "[(0,\n",
      "  [('order', 0.33122362869198313),\n",
      "   ('po', 0.05959915611814346),\n",
      "   ('supplier', 0.05168776371308017),\n",
      "   ('change', 0.0490506329113924),\n",
      "   ('document', 0.047995780590717296),\n",
      "   ('description', 0.034282700421940926),\n",
      "   ('procurement', 0.03164556962025317),\n",
      "   ('requisition_req', 0.029535864978902954),\n",
      "   ('attachment', 0.026371308016877638),\n",
      "   ('requisition', 0.022151898734177215)]),\n",
      " (1,\n",
      "  [('message', 0.15638629283489097),\n",
      "   ('inquiry', 0.07133956386292835),\n",
      "   ('error', 0.06355140186915888),\n",
      "   ('content', 0.05358255451713396),\n",
      "   ('update', 0.05358255451713396),\n",
      "   ('transmission', 0.05264797507788162),\n",
      "   ('result', 0.05046728971962617),\n",
      "   ('subsidiary', 0.048598130841121495),\n",
      "   ('intended_recipient', 0.03489096573208723),\n",
      "   ('delete', 0.030218068535825544)]),\n",
      " (2,\n",
      "  [('information', 0.0643588493417845),\n",
      "   ('product', 0.04193076548025353),\n",
      "   ('ship', 0.03169185763042418),\n",
      "   ('order', 0.02925402242808386),\n",
      "   ('price', 0.02779132130667967),\n",
      "   ('receive', 0.025353486104339348),\n",
      "   ('case', 0.019502681618722574),\n",
      "   ('add', 0.01901511457825451),\n",
      "   ('research', 0.01901511457825451),\n",
      "   ('sale', 0.01803998049731838)]),\n",
      " (3,\n",
      "  [('po', 0.0729113924050633),\n",
      "   ('invoice', 0.052658227848101265),\n",
      "   ('oracle', 0.052151898734177214),\n",
      "   ('vendor', 0.035443037974683546),\n",
      "   ('payment', 0.034430379746835445),\n",
      "   ('submit', 0.030886075949367087),\n",
      "   ('address', 0.030379746835443037),\n",
      "   ('find', 0.02329113924050633),\n",
      "   ('account', 0.02329113924050633),\n",
      "   ('place', 0.021265822784810127)]),\n",
      " (4,\n",
      "  [('message', 0.1541237113402062),\n",
      "   ('contact', 0.13402061855670103),\n",
      "   ('purchasing', 0.08402061855670104),\n",
      "   ('document', 0.07835051546391752),\n",
      "   ('review', 0.07783505154639175),\n",
      "   ('file', 0.07628865979381444),\n",
      "   ('question', 0.07422680412371134),\n",
      "   ('mail', 0.07061855670103093),\n",
      "   ('system', 0.06649484536082474),\n",
      "   ('request', 0.05257731958762887)]),\n",
      " (5,\n",
      "  [('number', 0.08978494623655914),\n",
      "   ('purchase', 0.07741935483870968),\n",
      "   ('service', 0.06559139784946237),\n",
      "   ('delivery', 0.034408602150537634),\n",
      "   ('company', 0.034408602150537634),\n",
      "   ('fedex', 0.03333333333333333),\n",
      "   ('track', 0.03064516129032258),\n",
      "   ('business', 0.02956989247311828),\n",
      "   ('status', 0.027419354838709678),\n",
      "   ('shipment', 0.025268817204301075)])]\n",
      "\n",
      "Coherence Score:  0.6796162712274582\n"
     ]
    }
   ],
   "source": [
    "# Show Topics\n",
    "pprint(ldamallet.show_topics(formatted=False))\n",
    "\n",
    "# Compute Coherence Score\n",
    "coherence_model_ldamallet = CoherenceModel(model=ldamallet, texts=lemmed, dictionary=id2word, coherence='c_v')\n",
    "coherence_ldamallet = coherence_model_ldamallet.get_coherence()\n",
    "print('\\nCoherence Score: ', coherence_ldamallet)"
   ]
  },
  {
   "cell_type": "markdown",
   "metadata": {},
   "source": [
    "#### Optimal Number of Topics for LDA\n",
    "\n",
    "Using the tutorial, a function is written to find which number of topics produces the best coherence score. The arguments in this function allow for customization in terms of the number of topics that want to be tested. "
   ]
  },
  {
   "cell_type": "code",
   "execution_count": 60,
   "metadata": {
    "tags": []
   },
   "outputs": [],
   "source": [
    "def compute_coherence_values(dictionary, corpus, texts, limit, start=2, step=3):\n",
    "    \"\"\"\n",
    "    Compute c_v coherence for various number of topics\n",
    "\n",
    "    Parameters:\n",
    "    ----------\n",
    "    dictionary : Gensim dictionary\n",
    "    corpus : Gensim corpus\n",
    "    texts : List of input texts\n",
    "    limit : Max num of topics\n",
    "\n",
    "    Returns:\n",
    "    -------\n",
    "    model_list : List of LDA topic models\n",
    "    coherence_values : Coherence values corresponding to the LDA model with respective number of topics\n",
    "    \"\"\"\n",
    "    coherence_values = []\n",
    "    model_list = []\n",
    "    for num_topics in range(start, limit, step):\n",
    "        model = gensim.models.wrappers.LdaMallet(mallet_path, corpus=corpus, num_topics=num_topics, id2word=id2word)\n",
    "        model_list.append(model)\n",
    "        coherencemodel = CoherenceModel(model=model, texts=texts, dictionary=dictionary, coherence='c_v')\n",
    "        coherence_values.append(coherencemodel.get_coherence())\n",
    "\n",
    "    return model_list, coherence_values"
   ]
  },
  {
   "cell_type": "code",
   "execution_count": 61,
   "metadata": {
    "tags": []
   },
   "outputs": [],
   "source": [
    "# Can take a long time to run.\n",
    "model_list, coherence_values = compute_coherence_values(dictionary=id2word, corpus=corpus, texts=lemmed, start=2, limit=20, step=4)"
   ]
  },
  {
   "cell_type": "code",
   "execution_count": 62,
   "metadata": {
    "tags": []
   },
   "outputs": [
    {
     "data": {
      "image/png": "[encoded data removed]",
      "image/svg+xml": "<?xml version=\"1.0\" encoding=\"utf-8\" standalone=\"no\"?>\n<!DOCTYPE svg PUBLIC \"-//W3C//DTD SVG 1.1//EN\"\n  \"http://www.w3.org/Graphics/SVG/1.1/DTD/svg11.dtd\">\n<!-- Created with matplotlib (https://matplotlib.org/) -->\n<svg height=\"262.19625pt\" version=\"1.1\" viewBox=\"0 0 392.14375 262.19625\" width=\"392.14375pt\" xmlns=\"http://www.w3.org/2000/svg\" xmlns:xlink=\"http://www.w3.org/1999/xlink\">\n <metadata>\n  <rdf:RDF xmlns:cc=\"http://creativecommons.org/ns#\" xmlns:dc=\"http://purl.org/dc/elements/1.1/\" xmlns:rdf=\"http://www.w3.org/1999/02/22-rdf-syntax-ns#\">\n   <cc:Work>\n    <dc:type rdf:resource=\"http://purl.org/dc/dcmitype/StillImage\"/>\n    <dc:date>2020-11-24T09:57:01.913937</dc:date>\n    <dc:format>image/svg+xml</dc:format>\n    <dc:creator>\n     <cc:Agent>\n      <dc:title>Matplotlib v3.3.2, https://matplotlib.org/</dc:title>\n     </cc:Agent>\n    </dc:creator>\n   </cc:Work>\n  </rdf:RDF>\n </metadata>\n <defs>\n  <style type=\"text/css\">*{stroke-linecap:butt;stroke-linejoin:round;}</style>\n </defs>\n <g id=\"figure_1\">\n  <g id=\"patch_1\">\n   <path d=\"M 0 262.19625 \nL 392.14375 262.19625 \nL 392.14375 0 \nL 0 0 \nz\n\" style=\"fill:none;\"/>\n  </g>\n  <g id=\"axes_1\">\n   <g id=\"patch_2\">\n    <path d=\"M 50.14375 224.64 \nL 384.94375 224.64 \nL 384.94375 7.2 \nL 50.14375 7.2 \nz\n\" style=\"fill:#ffffff;\"/>\n   </g>\n   <g id=\"matplotlib.axis_1\">\n    <g id=\"xtick_1\">\n     <g id=\"line2d_1\">\n      <defs>\n       <path d=\"M 0 0 \nL 0 3.5 \n\" id=\"m2847110687\" style=\"stroke:#000000;stroke-width:0.8;\"/>\n      </defs>\n      <g>\n       <use style=\"stroke:#000000;stroke-width:0.8;\" x=\"65.361932\" xlink:href=\"#m2847110687\" y=\"224.64\"/>\n      </g>\n     </g>\n     <g id=\"text_1\">\n      <!-- 2 -->\n      <g transform=\"translate(62.180682 239.238437)scale(0.1 -0.1)\">\n       <defs>\n        <path d=\"M 19.1875 8.296875 \nL 53.609375 8.296875 \nL 53.609375 0 \nL 7.328125 0 \nL 7.328125 8.296875 \nQ 12.9375 14.109375 22.625 23.890625 \nQ 32.328125 33.6875 34.8125 36.53125 \nQ 39.546875 41.84375 41.421875 45.53125 \nQ 43.3125 49.21875 43.3125 52.78125 \nQ 43.3125 58.59375 39.234375 62.25 \nQ 35.15625 65.921875 28.609375 65.921875 \nQ 23.96875 65.921875 18.8125 64.3125 \nQ 13.671875 62.703125 7.8125 59.421875 \nL 7.8125 69.390625 \nQ 13.765625 71.78125 18.9375 73 \nQ 24.125 74.21875 28.421875 74.21875 \nQ 39.75 74.21875 46.484375 68.546875 \nQ 53.21875 62.890625 53.21875 53.421875 \nQ 53.21875 48.921875 51.53125 44.890625 \nQ 49.859375 40.875 45.40625 35.40625 \nQ 44.1875 33.984375 37.640625 27.21875 \nQ 31.109375 20.453125 19.1875 8.296875 \nz\n\" id=\"DejaVuSans-50\"/>\n       </defs>\n       <use xlink:href=\"#DejaVuSans-50\"/>\n      </g>\n     </g>\n    </g>\n    <g id=\"xtick_2\">\n     <g id=\"line2d_2\">\n      <g>\n       <use style=\"stroke:#000000;stroke-width:0.8;\" x=\"103.407386\" xlink:href=\"#m2847110687\" y=\"224.64\"/>\n      </g>\n     </g>\n     <g id=\"text_2\">\n      <!-- 4 -->\n      <g transform=\"translate(100.226136 239.238437)scale(0.1 -0.1)\">\n       <defs>\n        <path d=\"M 37.796875 64.3125 \nL 12.890625 25.390625 \nL 37.796875 25.390625 \nz\nM 35.203125 72.90625 \nL 47.609375 72.90625 \nL 47.609375 25.390625 \nL 58.015625 25.390625 \nL 58.015625 17.1875 \nL 47.609375 17.1875 \nL 47.609375 0 \nL 37.796875 0 \nL 37.796875 17.1875 \nL 4.890625 17.1875 \nL 4.890625 26.703125 \nz\n\" id=\"DejaVuSans-52\"/>\n       </defs>\n       <use xlink:href=\"#DejaVuSans-52\"/>\n      </g>\n     </g>\n    </g>\n    <g id=\"xtick_3\">\n     <g id=\"line2d_3\">\n      <g>\n       <use style=\"stroke:#000000;stroke-width:0.8;\" x=\"141.452841\" xlink:href=\"#m2847110687\" y=\"224.64\"/>\n      </g>\n     </g>\n     <g id=\"text_3\">\n      <!-- 6 -->\n      <g transform=\"translate(138.271591 239.238437)scale(0.1 -0.1)\">\n       <defs>\n        <path d=\"M 33.015625 40.375 \nQ 26.375 40.375 22.484375 35.828125 \nQ 18.609375 31.296875 18.609375 23.390625 \nQ 18.609375 15.53125 22.484375 10.953125 \nQ 26.375 6.390625 33.015625 6.390625 \nQ 39.65625 6.390625 43.53125 10.953125 \nQ 47.40625 15.53125 47.40625 23.390625 \nQ 47.40625 31.296875 43.53125 35.828125 \nQ 39.65625 40.375 33.015625 40.375 \nz\nM 52.59375 71.296875 \nL 52.59375 62.3125 \nQ 48.875 64.0625 45.09375 64.984375 \nQ 41.3125 65.921875 37.59375 65.921875 \nQ 27.828125 65.921875 22.671875 59.328125 \nQ 17.53125 52.734375 16.796875 39.40625 \nQ 19.671875 43.65625 24.015625 45.921875 \nQ 28.375 48.1875 33.59375 48.1875 \nQ 44.578125 48.1875 50.953125 41.515625 \nQ 57.328125 34.859375 57.328125 23.390625 \nQ 57.328125 12.15625 50.6875 5.359375 \nQ 44.046875 -1.421875 33.015625 -1.421875 \nQ 20.359375 -1.421875 13.671875 8.265625 \nQ 6.984375 17.96875 6.984375 36.375 \nQ 6.984375 53.65625 15.1875 63.9375 \nQ 23.390625 74.21875 37.203125 74.21875 \nQ 40.921875 74.21875 44.703125 73.484375 \nQ 48.484375 72.75 52.59375 71.296875 \nz\n\" id=\"DejaVuSans-54\"/>\n       </defs>\n       <use xlink:href=\"#DejaVuSans-54\"/>\n      </g>\n     </g>\n    </g>\n    <g id=\"xtick_4\">\n     <g id=\"line2d_4\">\n      <g>\n       <use style=\"stroke:#000000;stroke-width:0.8;\" x=\"179.498295\" xlink:href=\"#m2847110687\" y=\"224.64\"/>\n      </g>\n     </g>\n     <g id=\"text_4\">\n      <!-- 8 -->\n      <g transform=\"translate(176.317045 239.238437)scale(0.1 -0.1)\">\n       <defs>\n        <path d=\"M 31.78125 34.625 \nQ 24.75 34.625 20.71875 30.859375 \nQ 16.703125 27.09375 16.703125 20.515625 \nQ 16.703125 13.921875 20.71875 10.15625 \nQ 24.75 6.390625 31.78125 6.390625 \nQ 38.8125 6.390625 42.859375 10.171875 \nQ 46.921875 13.96875 46.921875 20.515625 \nQ 46.921875 27.09375 42.890625 30.859375 \nQ 38.875 34.625 31.78125 34.625 \nz\nM 21.921875 38.8125 \nQ 15.578125 40.375 12.03125 44.71875 \nQ 8.5 49.078125 8.5 55.328125 \nQ 8.5 64.0625 14.71875 69.140625 \nQ 20.953125 74.21875 31.78125 74.21875 \nQ 42.671875 74.21875 48.875 69.140625 \nQ 55.078125 64.0625 55.078125 55.328125 \nQ 55.078125 49.078125 51.53125 44.71875 \nQ 48 40.375 41.703125 38.8125 \nQ 48.828125 37.15625 52.796875 32.3125 \nQ 56.78125 27.484375 56.78125 20.515625 \nQ 56.78125 9.90625 50.3125 4.234375 \nQ 43.84375 -1.421875 31.78125 -1.421875 \nQ 19.734375 -1.421875 13.25 4.234375 \nQ 6.78125 9.90625 6.78125 20.515625 \nQ 6.78125 27.484375 10.78125 32.3125 \nQ 14.796875 37.15625 21.921875 38.8125 \nz\nM 18.3125 54.390625 \nQ 18.3125 48.734375 21.84375 45.5625 \nQ 25.390625 42.390625 31.78125 42.390625 \nQ 38.140625 42.390625 41.71875 45.5625 \nQ 45.3125 48.734375 45.3125 54.390625 \nQ 45.3125 60.0625 41.71875 63.234375 \nQ 38.140625 66.40625 31.78125 66.40625 \nQ 25.390625 66.40625 21.84375 63.234375 \nQ 18.3125 60.0625 18.3125 54.390625 \nz\n\" id=\"DejaVuSans-56\"/>\n       </defs>\n       <use xlink:href=\"#DejaVuSans-56\"/>\n      </g>\n     </g>\n    </g>\n    <g id=\"xtick_5\">\n     <g id=\"line2d_5\">\n      <g>\n       <use style=\"stroke:#000000;stroke-width:0.8;\" x=\"217.54375\" xlink:href=\"#m2847110687\" y=\"224.64\"/>\n      </g>\n     </g>\n     <g id=\"text_5\">\n      <!-- 10 -->\n      <g transform=\"translate(211.18125 239.238437)scale(0.1 -0.1)\">\n       <defs>\n        <path d=\"M 12.40625 8.296875 \nL 28.515625 8.296875 \nL 28.515625 63.921875 \nL 10.984375 60.40625 \nL 10.984375 69.390625 \nL 28.421875 72.90625 \nL 38.28125 72.90625 \nL 38.28125 8.296875 \nL 54.390625 8.296875 \nL 54.390625 0 \nL 12.40625 0 \nz\n\" id=\"DejaVuSans-49\"/>\n        <path d=\"M 31.78125 66.40625 \nQ 24.171875 66.40625 20.328125 58.90625 \nQ 16.5 51.421875 16.5 36.375 \nQ 16.5 21.390625 20.328125 13.890625 \nQ 24.171875 6.390625 31.78125 6.390625 \nQ 39.453125 6.390625 43.28125 13.890625 \nQ 47.125 21.390625 47.125 36.375 \nQ 47.125 51.421875 43.28125 58.90625 \nQ 39.453125 66.40625 31.78125 66.40625 \nz\nM 31.78125 74.21875 \nQ 44.046875 74.21875 50.515625 64.515625 \nQ 56.984375 54.828125 56.984375 36.375 \nQ 56.984375 17.96875 50.515625 8.265625 \nQ 44.046875 -1.421875 31.78125 -1.421875 \nQ 19.53125 -1.421875 13.0625 8.265625 \nQ 6.59375 17.96875 6.59375 36.375 \nQ 6.59375 54.828125 13.0625 64.515625 \nQ 19.53125 74.21875 31.78125 74.21875 \nz\n\" id=\"DejaVuSans-48\"/>\n       </defs>\n       <use xlink:href=\"#DejaVuSans-49\"/>\n       <use x=\"63.623047\" xlink:href=\"#DejaVuSans-48\"/>\n      </g>\n     </g>\n    </g>\n    <g id=\"xtick_6\">\n     <g id=\"line2d_6\">\n      <g>\n       <use style=\"stroke:#000000;stroke-width:0.8;\" x=\"255.589205\" xlink:href=\"#m2847110687\" y=\"224.64\"/>\n      </g>\n     </g>\n     <g id=\"text_6\">\n      <!-- 12 -->\n      <g transform=\"translate(249.226705 239.238437)scale(0.1 -0.1)\">\n       <use xlink:href=\"#DejaVuSans-49\"/>\n       <use x=\"63.623047\" xlink:href=\"#DejaVuSans-50\"/>\n      </g>\n     </g>\n    </g>\n    <g id=\"xtick_7\">\n     <g id=\"line2d_7\">\n      <g>\n       <use style=\"stroke:#000000;stroke-width:0.8;\" x=\"293.634659\" xlink:href=\"#m2847110687\" y=\"224.64\"/>\n      </g>\n     </g>\n     <g id=\"text_7\">\n      <!-- 14 -->\n      <g transform=\"translate(287.272159 239.238437)scale(0.1 -0.1)\">\n       <use xlink:href=\"#DejaVuSans-49\"/>\n       <use x=\"63.623047\" xlink:href=\"#DejaVuSans-52\"/>\n      </g>\n     </g>\n    </g>\n    <g id=\"xtick_8\">\n     <g id=\"line2d_8\">\n      <g>\n       <use style=\"stroke:#000000;stroke-width:0.8;\" x=\"331.680114\" xlink:href=\"#m2847110687\" y=\"224.64\"/>\n      </g>\n     </g>\n     <g id=\"text_8\">\n      <!-- 16 -->\n      <g transform=\"translate(325.317614 239.238437)scale(0.1 -0.1)\">\n       <use xlink:href=\"#DejaVuSans-49\"/>\n       <use x=\"63.623047\" xlink:href=\"#DejaVuSans-54\"/>\n      </g>\n     </g>\n    </g>\n    <g id=\"xtick_9\">\n     <g id=\"line2d_9\">\n      <g>\n       <use style=\"stroke:#000000;stroke-width:0.8;\" x=\"369.725568\" xlink:href=\"#m2847110687\" y=\"224.64\"/>\n      </g>\n     </g>\n     <g id=\"text_9\">\n      <!-- 18 -->\n      <g transform=\"translate(363.363068 239.238437)scale(0.1 -0.1)\">\n       <use xlink:href=\"#DejaVuSans-49\"/>\n       <use x=\"63.623047\" xlink:href=\"#DejaVuSans-56\"/>\n      </g>\n     </g>\n    </g>\n    <g id=\"text_10\">\n     <!-- Num Topics -->\n     <g transform=\"translate(188.994531 252.916562)scale(0.1 -0.1)\">\n      <defs>\n       <path d=\"M 9.8125 72.90625 \nL 23.09375 72.90625 \nL 55.421875 11.921875 \nL 55.421875 72.90625 \nL 64.984375 72.90625 \nL 64.984375 0 \nL 51.703125 0 \nL 19.390625 60.984375 \nL 19.390625 0 \nL 9.8125 0 \nz\n\" id=\"DejaVuSans-78\"/>\n       <path d=\"M 8.5 21.578125 \nL 8.5 54.6875 \nL 17.484375 54.6875 \nL 17.484375 21.921875 \nQ 17.484375 14.15625 20.5 10.265625 \nQ 23.53125 6.390625 29.59375 6.390625 \nQ 36.859375 6.390625 41.078125 11.03125 \nQ 45.3125 15.671875 45.3125 23.6875 \nL 45.3125 54.6875 \nL 54.296875 54.6875 \nL 54.296875 0 \nL 45.3125 0 \nL 45.3125 8.40625 \nQ 42.046875 3.421875 37.71875 1 \nQ 33.40625 -1.421875 27.6875 -1.421875 \nQ 18.265625 -1.421875 13.375 4.4375 \nQ 8.5 10.296875 8.5 21.578125 \nz\nM 31.109375 56 \nz\n\" id=\"DejaVuSans-117\"/>\n       <path d=\"M 52 44.1875 \nQ 55.375 50.25 60.0625 53.125 \nQ 64.75 56 71.09375 56 \nQ 79.640625 56 84.28125 50.015625 \nQ 88.921875 44.046875 88.921875 33.015625 \nL 88.921875 0 \nL 79.890625 0 \nL 79.890625 32.71875 \nQ 79.890625 40.578125 77.09375 44.375 \nQ 74.3125 48.1875 68.609375 48.1875 \nQ 61.625 48.1875 57.5625 43.546875 \nQ 53.515625 38.921875 53.515625 30.90625 \nL 53.515625 0 \nL 44.484375 0 \nL 44.484375 32.71875 \nQ 44.484375 40.625 41.703125 44.40625 \nQ 38.921875 48.1875 33.109375 48.1875 \nQ 26.21875 48.1875 22.15625 43.53125 \nQ 18.109375 38.875 18.109375 30.90625 \nL 18.109375 0 \nL 9.078125 0 \nL 9.078125 54.6875 \nL 18.109375 54.6875 \nL 18.109375 46.1875 \nQ 21.1875 51.21875 25.484375 53.609375 \nQ 29.78125 56 35.6875 56 \nQ 41.65625 56 45.828125 52.96875 \nQ 50 49.953125 52 44.1875 \nz\n\" id=\"DejaVuSans-109\"/>\n       <path id=\"DejaVuSans-32\"/>\n       <path d=\"M -0.296875 72.90625 \nL 61.375 72.90625 \nL 61.375 64.59375 \nL 35.5 64.59375 \nL 35.5 0 \nL 25.59375 0 \nL 25.59375 64.59375 \nL -0.296875 64.59375 \nz\n\" id=\"DejaVuSans-84\"/>\n       <path d=\"M 30.609375 48.390625 \nQ 23.390625 48.390625 19.1875 42.75 \nQ 14.984375 37.109375 14.984375 27.296875 \nQ 14.984375 17.484375 19.15625 11.84375 \nQ 23.34375 6.203125 30.609375 6.203125 \nQ 37.796875 6.203125 41.984375 11.859375 \nQ 46.1875 17.53125 46.1875 27.296875 \nQ 46.1875 37.015625 41.984375 42.703125 \nQ 37.796875 48.390625 30.609375 48.390625 \nz\nM 30.609375 56 \nQ 42.328125 56 49.015625 48.375 \nQ 55.71875 40.765625 55.71875 27.296875 \nQ 55.71875 13.875 49.015625 6.21875 \nQ 42.328125 -1.421875 30.609375 -1.421875 \nQ 18.84375 -1.421875 12.171875 6.21875 \nQ 5.515625 13.875 5.515625 27.296875 \nQ 5.515625 40.765625 12.171875 48.375 \nQ 18.84375 56 30.609375 56 \nz\n\" id=\"DejaVuSans-111\"/>\n       <path d=\"M 18.109375 8.203125 \nL 18.109375 -20.796875 \nL 9.078125 -20.796875 \nL 9.078125 54.6875 \nL 18.109375 54.6875 \nL 18.109375 46.390625 \nQ 20.953125 51.265625 25.265625 53.625 \nQ 29.59375 56 35.59375 56 \nQ 45.5625 56 51.78125 48.09375 \nQ 58.015625 40.1875 58.015625 27.296875 \nQ 58.015625 14.40625 51.78125 6.484375 \nQ 45.5625 -1.421875 35.59375 -1.421875 \nQ 29.59375 -1.421875 25.265625 0.953125 \nQ 20.953125 3.328125 18.109375 8.203125 \nz\nM 48.6875 27.296875 \nQ 48.6875 37.203125 44.609375 42.84375 \nQ 40.53125 48.484375 33.40625 48.484375 \nQ 26.265625 48.484375 22.1875 42.84375 \nQ 18.109375 37.203125 18.109375 27.296875 \nQ 18.109375 17.390625 22.1875 11.75 \nQ 26.265625 6.109375 33.40625 6.109375 \nQ 40.53125 6.109375 44.609375 11.75 \nQ 48.6875 17.390625 48.6875 27.296875 \nz\n\" id=\"DejaVuSans-112\"/>\n       <path d=\"M 9.421875 54.6875 \nL 18.40625 54.6875 \nL 18.40625 0 \nL 9.421875 0 \nz\nM 9.421875 75.984375 \nL 18.40625 75.984375 \nL 18.40625 64.59375 \nL 9.421875 64.59375 \nz\n\" id=\"DejaVuSans-105\"/>\n       <path d=\"M 48.78125 52.59375 \nL 48.78125 44.1875 \nQ 44.96875 46.296875 41.140625 47.34375 \nQ 37.3125 48.390625 33.40625 48.390625 \nQ 24.65625 48.390625 19.8125 42.84375 \nQ 14.984375 37.3125 14.984375 27.296875 \nQ 14.984375 17.28125 19.8125 11.734375 \nQ 24.65625 6.203125 33.40625 6.203125 \nQ 37.3125 6.203125 41.140625 7.25 \nQ 44.96875 8.296875 48.78125 10.40625 \nL 48.78125 2.09375 \nQ 45.015625 0.34375 40.984375 -0.53125 \nQ 36.96875 -1.421875 32.421875 -1.421875 \nQ 20.0625 -1.421875 12.78125 6.34375 \nQ 5.515625 14.109375 5.515625 27.296875 \nQ 5.515625 40.671875 12.859375 48.328125 \nQ 20.21875 56 33.015625 56 \nQ 37.15625 56 41.109375 55.140625 \nQ 45.0625 54.296875 48.78125 52.59375 \nz\n\" id=\"DejaVuSans-99\"/>\n       <path d=\"M 44.28125 53.078125 \nL 44.28125 44.578125 \nQ 40.484375 46.53125 36.375 47.5 \nQ 32.28125 48.484375 27.875 48.484375 \nQ 21.1875 48.484375 17.84375 46.4375 \nQ 14.5 44.390625 14.5 40.28125 \nQ 14.5 37.15625 16.890625 35.375 \nQ 19.28125 33.59375 26.515625 31.984375 \nL 29.59375 31.296875 \nQ 39.15625 29.25 43.1875 25.515625 \nQ 47.21875 21.78125 47.21875 15.09375 \nQ 47.21875 7.46875 41.1875 3.015625 \nQ 35.15625 -1.421875 24.609375 -1.421875 \nQ 20.21875 -1.421875 15.453125 -0.5625 \nQ 10.6875 0.296875 5.421875 2 \nL 5.421875 11.28125 \nQ 10.40625 8.6875 15.234375 7.390625 \nQ 20.0625 6.109375 24.8125 6.109375 \nQ 31.15625 6.109375 34.5625 8.28125 \nQ 37.984375 10.453125 37.984375 14.40625 \nQ 37.984375 18.0625 35.515625 20.015625 \nQ 33.0625 21.96875 24.703125 23.78125 \nL 21.578125 24.515625 \nQ 13.234375 26.265625 9.515625 29.90625 \nQ 5.8125 33.546875 5.8125 39.890625 \nQ 5.8125 47.609375 11.28125 51.796875 \nQ 16.75 56 26.8125 56 \nQ 31.78125 56 36.171875 55.265625 \nQ 40.578125 54.546875 44.28125 53.078125 \nz\n\" id=\"DejaVuSans-115\"/>\n      </defs>\n      <use xlink:href=\"#DejaVuSans-78\"/>\n      <use x=\"74.804688\" xlink:href=\"#DejaVuSans-117\"/>\n      <use x=\"138.183594\" xlink:href=\"#DejaVuSans-109\"/>\n      <use x=\"235.595703\" xlink:href=\"#DejaVuSans-32\"/>\n      <use x=\"267.382812\" xlink:href=\"#DejaVuSans-84\"/>\n      <use x=\"311.466797\" xlink:href=\"#DejaVuSans-111\"/>\n      <use x=\"372.648438\" xlink:href=\"#DejaVuSans-112\"/>\n      <use x=\"436.125\" xlink:href=\"#DejaVuSans-105\"/>\n      <use x=\"463.908203\" xlink:href=\"#DejaVuSans-99\"/>\n      <use x=\"518.888672\" xlink:href=\"#DejaVuSans-115\"/>\n     </g>\n    </g>\n   </g>\n   <g id=\"matplotlib.axis_2\">\n    <g id=\"ytick_1\">\n     <g id=\"line2d_10\">\n      <defs>\n       <path d=\"M 0 0 \nL -3.5 0 \n\" id=\"mb01de7c563\" style=\"stroke:#000000;stroke-width:0.8;\"/>\n      </defs>\n      <g>\n       <use style=\"stroke:#000000;stroke-width:0.8;\" x=\"50.14375\" xlink:href=\"#mb01de7c563\" y=\"209.62722\"/>\n      </g>\n     </g>\n     <g id=\"text_11\">\n      <!-- 0.50 -->\n      <g transform=\"translate(20.878125 213.426439)scale(0.1 -0.1)\">\n       <defs>\n        <path d=\"M 10.6875 12.40625 \nL 21 12.40625 \nL 21 0 \nL 10.6875 0 \nz\n\" id=\"DejaVuSans-46\"/>\n        <path d=\"M 10.796875 72.90625 \nL 49.515625 72.90625 \nL 49.515625 64.59375 \nL 19.828125 64.59375 \nL 19.828125 46.734375 \nQ 21.96875 47.46875 24.109375 47.828125 \nQ 26.265625 48.1875 28.421875 48.1875 \nQ 40.625 48.1875 47.75 41.5 \nQ 54.890625 34.8125 54.890625 23.390625 \nQ 54.890625 11.625 47.5625 5.09375 \nQ 40.234375 -1.421875 26.90625 -1.421875 \nQ 22.3125 -1.421875 17.546875 -0.640625 \nQ 12.796875 0.140625 7.71875 1.703125 \nL 7.71875 11.625 \nQ 12.109375 9.234375 16.796875 8.0625 \nQ 21.484375 6.890625 26.703125 6.890625 \nQ 35.15625 6.890625 40.078125 11.328125 \nQ 45.015625 15.765625 45.015625 23.390625 \nQ 45.015625 31 40.078125 35.4375 \nQ 35.15625 39.890625 26.703125 39.890625 \nQ 22.75 39.890625 18.8125 39.015625 \nQ 14.890625 38.140625 10.796875 36.28125 \nz\n\" id=\"DejaVuSans-53\"/>\n       </defs>\n       <use xlink:href=\"#DejaVuSans-48\"/>\n       <use x=\"63.623047\" xlink:href=\"#DejaVuSans-46\"/>\n       <use x=\"95.410156\" xlink:href=\"#DejaVuSans-53\"/>\n       <use x=\"159.033203\" xlink:href=\"#DejaVuSans-48\"/>\n      </g>\n     </g>\n    </g>\n    <g id=\"ytick_2\">\n     <g id=\"line2d_11\">\n      <g>\n       <use style=\"stroke:#000000;stroke-width:0.8;\" x=\"50.14375\" xlink:href=\"#mb01de7c563\" y=\"183.483085\"/>\n      </g>\n     </g>\n     <g id=\"text_12\">\n      <!-- 0.52 -->\n      <g transform=\"translate(20.878125 187.282304)scale(0.1 -0.1)\">\n       <use xlink:href=\"#DejaVuSans-48\"/>\n       <use x=\"63.623047\" xlink:href=\"#DejaVuSans-46\"/>\n       <use x=\"95.410156\" xlink:href=\"#DejaVuSans-53\"/>\n       <use x=\"159.033203\" xlink:href=\"#DejaVuSans-50\"/>\n      </g>\n     </g>\n    </g>\n    <g id=\"ytick_3\">\n     <g id=\"line2d_12\">\n      <g>\n       <use style=\"stroke:#000000;stroke-width:0.8;\" x=\"50.14375\" xlink:href=\"#mb01de7c563\" y=\"157.33895\"/>\n      </g>\n     </g>\n     <g id=\"text_13\">\n      <!-- 0.54 -->\n      <g transform=\"translate(20.878125 161.138169)scale(0.1 -0.1)\">\n       <use xlink:href=\"#DejaVuSans-48\"/>\n       <use x=\"63.623047\" xlink:href=\"#DejaVuSans-46\"/>\n       <use x=\"95.410156\" xlink:href=\"#DejaVuSans-53\"/>\n       <use x=\"159.033203\" xlink:href=\"#DejaVuSans-52\"/>\n      </g>\n     </g>\n    </g>\n    <g id=\"ytick_4\">\n     <g id=\"line2d_13\">\n      <g>\n       <use style=\"stroke:#000000;stroke-width:0.8;\" x=\"50.14375\" xlink:href=\"#mb01de7c563\" y=\"131.194815\"/>\n      </g>\n     </g>\n     <g id=\"text_14\">\n      <!-- 0.56 -->\n      <g transform=\"translate(20.878125 134.994034)scale(0.1 -0.1)\">\n       <use xlink:href=\"#DejaVuSans-48\"/>\n       <use x=\"63.623047\" xlink:href=\"#DejaVuSans-46\"/>\n       <use x=\"95.410156\" xlink:href=\"#DejaVuSans-53\"/>\n       <use x=\"159.033203\" xlink:href=\"#DejaVuSans-54\"/>\n      </g>\n     </g>\n    </g>\n    <g id=\"ytick_5\">\n     <g id=\"line2d_14\">\n      <g>\n       <use style=\"stroke:#000000;stroke-width:0.8;\" x=\"50.14375\" xlink:href=\"#mb01de7c563\" y=\"105.05068\"/>\n      </g>\n     </g>\n     <g id=\"text_15\">\n      <!-- 0.58 -->\n      <g transform=\"translate(20.878125 108.849899)scale(0.1 -0.1)\">\n       <use xlink:href=\"#DejaVuSans-48\"/>\n       <use x=\"63.623047\" xlink:href=\"#DejaVuSans-46\"/>\n       <use x=\"95.410156\" xlink:href=\"#DejaVuSans-53\"/>\n       <use x=\"159.033203\" xlink:href=\"#DejaVuSans-56\"/>\n      </g>\n     </g>\n    </g>\n    <g id=\"ytick_6\">\n     <g id=\"line2d_15\">\n      <g>\n       <use style=\"stroke:#000000;stroke-width:0.8;\" x=\"50.14375\" xlink:href=\"#mb01de7c563\" y=\"78.906545\"/>\n      </g>\n     </g>\n     <g id=\"text_16\">\n      <!-- 0.60 -->\n      <g transform=\"translate(20.878125 82.705764)scale(0.1 -0.1)\">\n       <use xlink:href=\"#DejaVuSans-48\"/>\n       <use x=\"63.623047\" xlink:href=\"#DejaVuSans-46\"/>\n       <use x=\"95.410156\" xlink:href=\"#DejaVuSans-54\"/>\n       <use x=\"159.033203\" xlink:href=\"#DejaVuSans-48\"/>\n      </g>\n     </g>\n    </g>\n    <g id=\"ytick_7\">\n     <g id=\"line2d_16\">\n      <g>\n       <use style=\"stroke:#000000;stroke-width:0.8;\" x=\"50.14375\" xlink:href=\"#mb01de7c563\" y=\"52.76241\"/>\n      </g>\n     </g>\n     <g id=\"text_17\">\n      <!-- 0.62 -->\n      <g transform=\"translate(20.878125 56.561628)scale(0.1 -0.1)\">\n       <use xlink:href=\"#DejaVuSans-48\"/>\n       <use x=\"63.623047\" xlink:href=\"#DejaVuSans-46\"/>\n       <use x=\"95.410156\" xlink:href=\"#DejaVuSans-54\"/>\n       <use x=\"159.033203\" xlink:href=\"#DejaVuSans-50\"/>\n      </g>\n     </g>\n    </g>\n    <g id=\"ytick_8\">\n     <g id=\"line2d_17\">\n      <g>\n       <use style=\"stroke:#000000;stroke-width:0.8;\" x=\"50.14375\" xlink:href=\"#mb01de7c563\" y=\"26.618275\"/>\n      </g>\n     </g>\n     <g id=\"text_18\">\n      <!-- 0.64 -->\n      <g transform=\"translate(20.878125 30.417493)scale(0.1 -0.1)\">\n       <use xlink:href=\"#DejaVuSans-48\"/>\n       <use x=\"63.623047\" xlink:href=\"#DejaVuSans-46\"/>\n       <use x=\"95.410156\" xlink:href=\"#DejaVuSans-54\"/>\n       <use x=\"159.033203\" xlink:href=\"#DejaVuSans-52\"/>\n      </g>\n     </g>\n    </g>\n    <g id=\"text_19\">\n     <!-- Coherence score -->\n     <g transform=\"translate(14.798438 157.752031)rotate(-90)scale(0.1 -0.1)\">\n      <defs>\n       <path d=\"M 64.40625 67.28125 \nL 64.40625 56.890625 \nQ 59.421875 61.53125 53.78125 63.8125 \nQ 48.140625 66.109375 41.796875 66.109375 \nQ 29.296875 66.109375 22.65625 58.46875 \nQ 16.015625 50.828125 16.015625 36.375 \nQ 16.015625 21.96875 22.65625 14.328125 \nQ 29.296875 6.6875 41.796875 6.6875 \nQ 48.140625 6.6875 53.78125 8.984375 \nQ 59.421875 11.28125 64.40625 15.921875 \nL 64.40625 5.609375 \nQ 59.234375 2.09375 53.4375 0.328125 \nQ 47.65625 -1.421875 41.21875 -1.421875 \nQ 24.65625 -1.421875 15.125 8.703125 \nQ 5.609375 18.84375 5.609375 36.375 \nQ 5.609375 53.953125 15.125 64.078125 \nQ 24.65625 74.21875 41.21875 74.21875 \nQ 47.75 74.21875 53.53125 72.484375 \nQ 59.328125 70.75 64.40625 67.28125 \nz\n\" id=\"DejaVuSans-67\"/>\n       <path d=\"M 54.890625 33.015625 \nL 54.890625 0 \nL 45.90625 0 \nL 45.90625 32.71875 \nQ 45.90625 40.484375 42.875 44.328125 \nQ 39.84375 48.1875 33.796875 48.1875 \nQ 26.515625 48.1875 22.3125 43.546875 \nQ 18.109375 38.921875 18.109375 30.90625 \nL 18.109375 0 \nL 9.078125 0 \nL 9.078125 75.984375 \nL 18.109375 75.984375 \nL 18.109375 46.1875 \nQ 21.34375 51.125 25.703125 53.5625 \nQ 30.078125 56 35.796875 56 \nQ 45.21875 56 50.046875 50.171875 \nQ 54.890625 44.34375 54.890625 33.015625 \nz\n\" id=\"DejaVuSans-104\"/>\n       <path d=\"M 56.203125 29.59375 \nL 56.203125 25.203125 \nL 14.890625 25.203125 \nQ 15.484375 15.921875 20.484375 11.0625 \nQ 25.484375 6.203125 34.421875 6.203125 \nQ 39.59375 6.203125 44.453125 7.46875 \nQ 49.3125 8.734375 54.109375 11.28125 \nL 54.109375 2.78125 \nQ 49.265625 0.734375 44.1875 -0.34375 \nQ 39.109375 -1.421875 33.890625 -1.421875 \nQ 20.796875 -1.421875 13.15625 6.1875 \nQ 5.515625 13.8125 5.515625 26.8125 \nQ 5.515625 40.234375 12.765625 48.109375 \nQ 20.015625 56 32.328125 56 \nQ 43.359375 56 49.78125 48.890625 \nQ 56.203125 41.796875 56.203125 29.59375 \nz\nM 47.21875 32.234375 \nQ 47.125 39.59375 43.09375 43.984375 \nQ 39.0625 48.390625 32.421875 48.390625 \nQ 24.90625 48.390625 20.390625 44.140625 \nQ 15.875 39.890625 15.1875 32.171875 \nz\n\" id=\"DejaVuSans-101\"/>\n       <path d=\"M 41.109375 46.296875 \nQ 39.59375 47.171875 37.8125 47.578125 \nQ 36.03125 48 33.890625 48 \nQ 26.265625 48 22.1875 43.046875 \nQ 18.109375 38.09375 18.109375 28.8125 \nL 18.109375 0 \nL 9.078125 0 \nL 9.078125 54.6875 \nL 18.109375 54.6875 \nL 18.109375 46.1875 \nQ 20.953125 51.171875 25.484375 53.578125 \nQ 30.03125 56 36.53125 56 \nQ 37.453125 56 38.578125 55.875 \nQ 39.703125 55.765625 41.0625 55.515625 \nz\n\" id=\"DejaVuSans-114\"/>\n       <path d=\"M 54.890625 33.015625 \nL 54.890625 0 \nL 45.90625 0 \nL 45.90625 32.71875 \nQ 45.90625 40.484375 42.875 44.328125 \nQ 39.84375 48.1875 33.796875 48.1875 \nQ 26.515625 48.1875 22.3125 43.546875 \nQ 18.109375 38.921875 18.109375 30.90625 \nL 18.109375 0 \nL 9.078125 0 \nL 9.078125 54.6875 \nL 18.109375 54.6875 \nL 18.109375 46.1875 \nQ 21.34375 51.125 25.703125 53.5625 \nQ 30.078125 56 35.796875 56 \nQ 45.21875 56 50.046875 50.171875 \nQ 54.890625 44.34375 54.890625 33.015625 \nz\n\" id=\"DejaVuSans-110\"/>\n      </defs>\n      <use xlink:href=\"#DejaVuSans-67\"/>\n      <use x=\"69.824219\" xlink:href=\"#DejaVuSans-111\"/>\n      <use x=\"131.005859\" xlink:href=\"#DejaVuSans-104\"/>\n      <use x=\"194.384766\" xlink:href=\"#DejaVuSans-101\"/>\n      <use x=\"255.908203\" xlink:href=\"#DejaVuSans-114\"/>\n      <use x=\"294.771484\" xlink:href=\"#DejaVuSans-101\"/>\n      <use x=\"356.294922\" xlink:href=\"#DejaVuSans-110\"/>\n      <use x=\"419.673828\" xlink:href=\"#DejaVuSans-99\"/>\n      <use x=\"474.654297\" xlink:href=\"#DejaVuSans-101\"/>\n      <use x=\"536.177734\" xlink:href=\"#DejaVuSans-32\"/>\n      <use x=\"567.964844\" xlink:href=\"#DejaVuSans-115\"/>\n      <use x=\"620.064453\" xlink:href=\"#DejaVuSans-99\"/>\n      <use x=\"675.044922\" xlink:href=\"#DejaVuSans-111\"/>\n      <use x=\"736.226562\" xlink:href=\"#DejaVuSans-114\"/>\n      <use x=\"775.089844\" xlink:href=\"#DejaVuSans-101\"/>\n     </g>\n    </g>\n   </g>\n   <g id=\"line2d_18\">\n    <path clip-path=\"url(#p7dea544bc3)\" d=\"M 65.361932 29.759345 \nL 141.452841 17.083636 \nL 217.54375 113.282124 \nL 293.634659 175.620412 \nL 369.725568 214.756364 \n\" style=\"fill:none;stroke:#1f77b4;stroke-linecap:square;stroke-width:1.5;\"/>\n   </g>\n   <g id=\"patch_3\">\n    <path d=\"M 50.14375 224.64 \nL 50.14375 7.2 \n\" style=\"fill:none;stroke:#000000;stroke-linecap:square;stroke-linejoin:miter;stroke-width:0.8;\"/>\n   </g>\n   <g id=\"patch_4\">\n    <path d=\"M 384.94375 224.64 \nL 384.94375 7.2 \n\" style=\"fill:none;stroke:#000000;stroke-linecap:square;stroke-linejoin:miter;stroke-width:0.8;\"/>\n   </g>\n   <g id=\"patch_5\">\n    <path d=\"M 50.14375 224.64 \nL 384.94375 224.64 \n\" style=\"fill:none;stroke:#000000;stroke-linecap:square;stroke-linejoin:miter;stroke-width:0.8;\"/>\n   </g>\n   <g id=\"patch_6\">\n    <path d=\"M 50.14375 7.2 \nL 384.94375 7.2 \n\" style=\"fill:none;stroke:#000000;stroke-linecap:square;stroke-linejoin:miter;stroke-width:0.8;\"/>\n   </g>\n   <g id=\"legend_1\">\n    <g id=\"patch_7\">\n     <path d=\"M 340.445312 29.878125 \nL 377.94375 29.878125 \nQ 379.94375 29.878125 379.94375 27.878125 \nL 379.94375 14.2 \nQ 379.94375 12.2 377.94375 12.2 \nL 340.445312 12.2 \nQ 338.445312 12.2 338.445312 14.2 \nL 338.445312 27.878125 \nQ 338.445312 29.878125 340.445312 29.878125 \nz\n\" style=\"fill:#ffffff;opacity:0.8;stroke:#cccccc;stroke-linejoin:miter;\"/>\n    </g>\n    <g id=\"line2d_19\">\n     <path d=\"M 342.445312 20.298437 \nL 362.445312 20.298437 \n\" style=\"fill:none;stroke:#1f77b4;stroke-linecap:square;stroke-width:1.5;\"/>\n    </g>\n    <g id=\"line2d_20\"/>\n    <g id=\"text_20\">\n     <!-- c -->\n     <g transform=\"translate(370.445312 23.798437)scale(0.1 -0.1)\">\n      <use xlink:href=\"#DejaVuSans-99\"/>\n     </g>\n    </g>\n   </g>\n  </g>\n </g>\n <defs>\n  <clipPath id=\"p7dea544bc3\">\n   <rect height=\"217.44\" width=\"334.8\" x=\"50.14375\" y=\"7.2\"/>\n  </clipPath>\n </defs>\n</svg>\n",
      "text/plain": [
       "<Figure size 432x288 with 1 Axes>"
      ]
     },
     "metadata": {
      "needs_background": "light"
     },
     "output_type": "display_data"
    }
   ],
   "source": [
    "# Show graph\n",
    "limit=20; start=2; step=4;\n",
    "x = range(start, limit, step)\n",
    "plt.plot(x, coherence_values)\n",
    "plt.xlabel(\"Num Topics\")\n",
    "plt.ylabel(\"Coherence score\")\n",
    "plt.legend((\"coherence_values\"), loc='best')\n",
    "plt.show()"
   ]
  },
  {
   "cell_type": "markdown",
   "metadata": {},
   "source": [
    "The results of the testing are shown below. This can change depending on the number of topics tested and how many actually want to have a coherence score (check the \"step\" argument found in the function)"
   ]
  },
  {
   "cell_type": "code",
   "execution_count": 63,
   "metadata": {
    "tags": []
   },
   "outputs": [
    {
     "name": "stdout",
     "output_type": "stream",
     "text": [
      "Num Topics = 2  has Coherence Value of 0.6376\n",
      "Num Topics = 6  has Coherence Value of 0.6473\n",
      "Num Topics = 10  has Coherence Value of 0.5737\n",
      "Num Topics = 14  has Coherence Value of 0.526\n",
      "Num Topics = 18  has Coherence Value of 0.4961\n"
     ]
    }
   ],
   "source": [
    "# Print the coherence scores\n",
    "for m, cv in zip(x, coherence_values):\n",
    "    print(\"Num Topics =\", m, \" has Coherence Value of\", round(cv, 4))"
   ]
  },
  {
   "cell_type": "code",
   "execution_count": 64,
   "metadata": {
    "tags": []
   },
   "outputs": [
    {
     "name": "stdout",
     "output_type": "stream",
     "text": [
      "[(0,\n",
      "  '0.200*\"order\" + 0.081*\"ship\" + 0.071*\"product\" + 0.047*\"price\" + '\n",
      "  '0.028*\"shipping\" + 0.026*\"lifespan\" + 0.025*\"week\" + 0.023*\"issue\" + '\n",
      "  '0.021*\"antibody\" + 0.020*\"additional\"'),\n",
      " (1,\n",
      "  '0.202*\"document\" + 0.153*\"purchasing\" + 0.132*\"purchase\" + 0.129*\"file\" + '\n",
      "  '0.069*\"review\" + 0.055*\"number\" + 0.030*\"case\" + 0.018*\"follow\" + '\n",
      "  '0.018*\"purreview\" + 0.018*\"department\"'),\n",
      " (2,\n",
      "  '0.109*\"number\" + 0.069*\"service\" + 0.053*\"company\" + 0.052*\"fedex\" + '\n",
      "  '0.048*\"track\" + 0.046*\"business\" + 0.043*\"delivery\" + 0.039*\"shipment\" + '\n",
      "  '0.033*\"status\" + 0.033*\"deliver\"'),\n",
      " (3,\n",
      "  '0.141*\"po\" + 0.082*\"invoice\" + 0.081*\"oracle\" + 0.054*\"vendor\" + '\n",
      "  '0.054*\"payment\" + 0.049*\"submit\" + 0.036*\"account\" + 0.032*\"find\" + '\n",
      "  '0.027*\"make\" + 0.024*\"good\"'),\n",
      " (4,\n",
      "  '0.129*\"message\" + 0.102*\"inquiry\" + 0.092*\"error\" + 0.076*\"content\" + '\n",
      "  '0.075*\"transmission\" + 0.072*\"result\" + 0.069*\"subsidiary\" + 0.048*\"update\" '\n",
      "  '+ 0.040*\"access\" + 0.036*\"virus\"'),\n",
      " (5,\n",
      "  '0.122*\"information\" + 0.043*\"requisition\" + 0.039*\"place\" + 0.036*\"tax\" + '\n",
      "  '0.036*\"add\" + 0.035*\"line\" + 0.031*\"approve\" + 0.022*\"pt\" + 0.020*\"process\" '\n",
      "  '+ 0.019*\"work\"'),\n",
      " (6,\n",
      "  '0.228*\"order\" + 0.081*\"supplier\" + 0.076*\"change\" + 0.065*\"po\" + '\n",
      "  '0.046*\"requisition_req\" + 0.040*\"description\" + 0.033*\"task\" + '\n",
      "  '0.032*\"requester\" + 0.031*\"document\" + 0.030*\"procurement\"'),\n",
      " (7,\n",
      "  '0.147*\"order\" + 0.052*\"address\" + 0.045*\"receive\" + 0.032*\"sale\" + '\n",
      "  '0.031*\"research\" + 0.029*\"send\" + 0.022*\"website\" + 0.021*\"confirmation\" + '\n",
      "  '0.021*\"correct\" + 0.019*\"assistance\"'),\n",
      " (8,\n",
      "  '0.312*\"message\" + 0.100*\"mail\" + 0.093*\"system\" + '\n",
      "  '0.081*\"intended_recipient\" + 0.070*\"delete\" + 0.068*\"person\" + '\n",
      "  '0.068*\"privileged\" + 0.066*\"disclosure\" + 0.044*\"provide\" + '\n",
      "  '0.031*\"directly\"'),\n",
      " (9,\n",
      "  '0.222*\"contact\" + 0.123*\"question\" + 0.112*\"request\" + 0.109*\"service\" + '\n",
      "  '0.074*\"update\" + 0.069*\"review\" + 0.068*\"message\" + 0.061*\"respond\" + '\n",
      "  '0.052*\"number\" + 0.015*\"file\"')]\n"
     ]
    }
   ],
   "source": [
    "# Select the model and print the topics\n",
    "optimal_model = model_list[2]\n",
    "model_topics = optimal_model.show_topics(formatted=False)\n",
    "pprint(optimal_model.print_topics(num_words=10))"
   ]
  },
  {
   "cell_type": "markdown",
   "metadata": {},
   "source": [
    "#### Dominant Topic Search for Each Sentence"
   ]
  },
  {
   "cell_type": "code",
   "execution_count": 65,
   "metadata": {
    "tags": []
   },
   "outputs": [
    {
     "data": {
      "text/html": [
       "<div>\n",
       "<style scoped>\n",
       "    .dataframe tbody tr th:only-of-type {\n",
       "        vertical-align: middle;\n",
       "    }\n",
       "\n",
       "    .dataframe tbody tr th {\n",
       "        vertical-align: top;\n",
       "    }\n",
       "\n",
       "    .dataframe thead th {\n",
       "        text-align: right;\n",
       "    }\n",
       "</style>\n",
       "<table border=\"1\" class=\"dataframe\">\n",
       "  <thead>\n",
       "    <tr style=\"text-align: right;\">\n",
       "      <th></th>\n",
       "      <th>Document_No</th>\n",
       "      <th>Dominant_Topic</th>\n",
       "      <th>Topic_Perc_Contrib</th>\n",
       "      <th>Keywords</th>\n",
       "      <th>Text</th>\n",
       "    </tr>\n",
       "  </thead>\n",
       "  <tbody>\n",
       "    <tr>\n",
       "      <th>0</th>\n",
       "      <td>0</td>\n",
       "      <td>3.0</td>\n",
       "      <td>0.1356</td>\n",
       "      <td>po, invoice, oracle, vendor, payment, submit, ...</td>\n",
       "      <td>hello  when i place orders on project    oracl...</td>\n",
       "    </tr>\n",
       "    <tr>\n",
       "      <th>1</th>\n",
       "      <td>1</td>\n",
       "      <td>3.0</td>\n",
       "      <td>0.1488</td>\n",
       "      <td>po, invoice, oracle, vendor, payment, submit, ...</td>\n",
       "      <td>i have been having an issue with processing a ...</td>\n",
       "    </tr>\n",
       "    <tr>\n",
       "      <th>2</th>\n",
       "      <td>2</td>\n",
       "      <td>7.0</td>\n",
       "      <td>0.2243</td>\n",
       "      <td>order, address, receive, sale, research, send,...</td>\n",
       "      <td>received from  cce ref   customer number   dea...</td>\n",
       "    </tr>\n",
       "    <tr>\n",
       "      <th>3</th>\n",
       "      <td>3</td>\n",
       "      <td>0.0</td>\n",
       "      <td>0.1324</td>\n",
       "      <td>order, ship, product, price, shipping, lifespa...</td>\n",
       "      <td>received from  dear pur dept  \\tthis transacti...</td>\n",
       "    </tr>\n",
       "    <tr>\n",
       "      <th>4</th>\n",
       "      <td>4</td>\n",
       "      <td>3.0</td>\n",
       "      <td>0.1404</td>\n",
       "      <td>po, invoice, oracle, vendor, payment, submit, ...</td>\n",
       "      <td>received from  thank you for the above referen...</td>\n",
       "    </tr>\n",
       "    <tr>\n",
       "      <th>5</th>\n",
       "      <td>5</td>\n",
       "      <td>3.0</td>\n",
       "      <td>0.1475</td>\n",
       "      <td>po, invoice, oracle, vendor, payment, submit, ...</td>\n",
       "      <td>hello  under the chart string of the following...</td>\n",
       "    </tr>\n",
       "    <tr>\n",
       "      <th>6</th>\n",
       "      <td>6</td>\n",
       "      <td>9.0</td>\n",
       "      <td>0.1981</td>\n",
       "      <td>contact, question, request, service, update, r...</td>\n",
       "      <td>received from  please reply above this linetha...</td>\n",
       "    </tr>\n",
       "    <tr>\n",
       "      <th>7</th>\n",
       "      <td>7</td>\n",
       "      <td>9.0</td>\n",
       "      <td>0.1981</td>\n",
       "      <td>contact, question, request, service, update, r...</td>\n",
       "      <td>received from  please reply above this linetha...</td>\n",
       "    </tr>\n",
       "    <tr>\n",
       "      <th>8</th>\n",
       "      <td>8</td>\n",
       "      <td>9.0</td>\n",
       "      <td>0.1963</td>\n",
       "      <td>contact, question, request, service, update, r...</td>\n",
       "      <td>received from  please reply above this linetha...</td>\n",
       "    </tr>\n",
       "    <tr>\n",
       "      <th>9</th>\n",
       "      <td>9</td>\n",
       "      <td>9.0</td>\n",
       "      <td>0.1981</td>\n",
       "      <td>contact, question, request, service, update, r...</td>\n",
       "      <td>received from  please reply above this linetha...</td>\n",
       "    </tr>\n",
       "  </tbody>\n",
       "</table>\n",
       "</div>"
      ],
      "text/plain": [
       "   Document_No  Dominant_Topic  Topic_Perc_Contrib  \\\n",
       "0            0             3.0              0.1356   \n",
       "1            1             3.0              0.1488   \n",
       "2            2             7.0              0.2243   \n",
       "3            3             0.0              0.1324   \n",
       "4            4             3.0              0.1404   \n",
       "5            5             3.0              0.1475   \n",
       "6            6             9.0              0.1981   \n",
       "7            7             9.0              0.1981   \n",
       "8            8             9.0              0.1963   \n",
       "9            9             9.0              0.1981   \n",
       "\n",
       "                                            Keywords  \\\n",
       "0  po, invoice, oracle, vendor, payment, submit, ...   \n",
       "1  po, invoice, oracle, vendor, payment, submit, ...   \n",
       "2  order, address, receive, sale, research, send,...   \n",
       "3  order, ship, product, price, shipping, lifespa...   \n",
       "4  po, invoice, oracle, vendor, payment, submit, ...   \n",
       "5  po, invoice, oracle, vendor, payment, submit, ...   \n",
       "6  contact, question, request, service, update, r...   \n",
       "7  contact, question, request, service, update, r...   \n",
       "8  contact, question, request, service, update, r...   \n",
       "9  contact, question, request, service, update, r...   \n",
       "\n",
       "                                                Text  \n",
       "0  hello  when i place orders on project    oracl...  \n",
       "1  i have been having an issue with processing a ...  \n",
       "2  received from  cce ref   customer number   dea...  \n",
       "3  received from  dear pur dept  \\tthis transacti...  \n",
       "4  received from  thank you for the above referen...  \n",
       "5  hello  under the chart string of the following...  \n",
       "6  received from  please reply above this linetha...  \n",
       "7  received from  please reply above this linetha...  \n",
       "8  received from  please reply above this linetha...  \n",
       "9  received from  please reply above this linetha...  "
      ]
     },
     "execution_count": 65,
     "metadata": {},
     "output_type": "execute_result"
    }
   ],
   "source": [
    "def format_topics_sentences(ldamodel=lda_model, corpus=corpus, texts=alldescrip):\n",
    "    # Init output\n",
    "    sent_topics_df = pd.DataFrame()\n",
    "\n",
    "    # Get main topic in each document\n",
    "    for i, row in enumerate(ldamodel[corpus]):\n",
    "        row = sorted(row, key=lambda x: (x[1]), reverse=True)\n",
    "        # Get the Dominant topic, Perc Contribution and Keywords for each document\n",
    "        for j, (topic_num, prop_topic) in enumerate(row):\n",
    "            if j == 0:  # => dominant topic\n",
    "                wp = ldamodel.show_topic(topic_num)\n",
    "                topic_keywords = \", \".join([word for word, prop in wp])\n",
    "                sent_topics_df = sent_topics_df.append(pd.Series([int(topic_num), round(prop_topic,4), topic_keywords]), ignore_index=True)\n",
    "            else:\n",
    "                break\n",
    "    sent_topics_df.columns = ['Dominant_Topic', 'Perc_Contribution', 'Topic_Keywords']\n",
    "\n",
    "    # Add original text to the end of the output\n",
    "    contents = pd.Series(texts)\n",
    "    sent_topics_df = pd.concat([sent_topics_df, contents], axis=1)\n",
    "    return(sent_topics_df)\n",
    "\n",
    "\n",
    "# data should be text_words_no_stops_bigram\n",
    "# df_topic_sents_keywords = format_topics_sentences(ldamodel=optimal_model, corpus=corpus, texts=text_words_no_stops_bigarm)\n",
    "df_topic_sents_keywords = format_topics_sentences(ldamodel=optimal_model, corpus=corpus, texts=alldescrip)\n",
    "\n",
    "# Format\n",
    "df_dominant_topic = df_topic_sents_keywords.reset_index()\n",
    "df_dominant_topic.columns = ['Document_No', 'Dominant_Topic', 'Topic_Perc_Contrib', 'Keywords', 'Text']\n",
    "\n",
    "# Show\n",
    "df_dominant_topic.head(10)"
   ]
  },
  {
   "cell_type": "markdown",
   "metadata": {},
   "source": [
    "#### Most Representative Document for Each Topic\n",
    "\n",
    "For each topic, we can see the text that closely align with the topic as chosen by mallet. This allows us to infer if the ServiceNow tickets placed in each topic should actually be in the specific topic and allows us to understand what cases make up the topic. Trouble shooting can also be done using this step as it allows us to directly see the cases themselves."
   ]
  },
  {
   "cell_type": "code",
   "execution_count": 67,
   "metadata": {
    "tags": []
   },
   "outputs": [
    {
     "data": {
      "text/html": [
       "<div>\n",
       "<style scoped>\n",
       "    .dataframe tbody tr th:only-of-type {\n",
       "        vertical-align: middle;\n",
       "    }\n",
       "\n",
       "    .dataframe tbody tr th {\n",
       "        vertical-align: top;\n",
       "    }\n",
       "\n",
       "    .dataframe thead th {\n",
       "        text-align: right;\n",
       "    }\n",
       "</style>\n",
       "<table border=\"1\" class=\"dataframe\">\n",
       "  <thead>\n",
       "    <tr style=\"text-align: right;\">\n",
       "      <th></th>\n",
       "      <th>Topic_Num</th>\n",
       "      <th>Topic_Perc_Contrib</th>\n",
       "      <th>Keywords</th>\n",
       "      <th>Text</th>\n",
       "    </tr>\n",
       "  </thead>\n",
       "  <tbody>\n",
       "    <tr>\n",
       "      <th>0</th>\n",
       "      <td>0.0</td>\n",
       "      <td>0.5381</td>\n",
       "      <td>order, ship, product, price, shipping, lifespa...</td>\n",
       "      <td>received from  to  university of california  s...</td>\n",
       "    </tr>\n",
       "    <tr>\n",
       "      <th>1</th>\n",
       "      <td>1.0</td>\n",
       "      <td>0.2998</td>\n",
       "      <td>document, purchasing, purchase, file, review, ...</td>\n",
       "      <td>received from  dear uc san diego thank you for...</td>\n",
       "    </tr>\n",
       "    <tr>\n",
       "      <th>2</th>\n",
       "      <td>2.0</td>\n",
       "      <td>0.5475</td>\n",
       "      <td>number, service, company, fedex, track, busine...</td>\n",
       "      <td>received from  fedex        hi  this shipment ...</td>\n",
       "    </tr>\n",
       "    <tr>\n",
       "      <th>3</th>\n",
       "      <td>3.0</td>\n",
       "      <td>0.3790</td>\n",
       "      <td>po, invoice, oracle, vendor, payment, submit, ...</td>\n",
       "      <td>received from  from  andre perez sent  friday ...</td>\n",
       "    </tr>\n",
       "    <tr>\n",
       "      <th>4</th>\n",
       "      <td>4.0</td>\n",
       "      <td>0.3257</td>\n",
       "      <td>message, inquiry, error, content, transmission...</td>\n",
       "      <td>received from  thank you for contacting millip...</td>\n",
       "    </tr>\n",
       "    <tr>\n",
       "      <th>5</th>\n",
       "      <td>5.0</td>\n",
       "      <td>0.5257</td>\n",
       "      <td>information, requisition, place, tax, add, lin...</td>\n",
       "      <td>received from   doctype html html head \\t titl...</td>\n",
       "    </tr>\n",
       "    <tr>\n",
       "      <th>6</th>\n",
       "      <td>6.0</td>\n",
       "      <td>0.5189</td>\n",
       "      <td>order, supplier, change, po, requisition_req, ...</td>\n",
       "      <td>received from  document  requester change orde...</td>\n",
       "    </tr>\n",
       "    <tr>\n",
       "      <th>7</th>\n",
       "      <td>7.0</td>\n",
       "      <td>0.4000</td>\n",
       "      <td>order, address, receive, sale, research, send,...</td>\n",
       "      <td>received from  sars cov  igg elisa kits now av...</td>\n",
       "    </tr>\n",
       "    <tr>\n",
       "      <th>8</th>\n",
       "      <td>8.0</td>\n",
       "      <td>0.1998</td>\n",
       "      <td>message, mail, system, intended_recipient, del...</td>\n",
       "      <td>received from  hello please confirm the attach...</td>\n",
       "    </tr>\n",
       "    <tr>\n",
       "      <th>9</th>\n",
       "      <td>9.0</td>\n",
       "      <td>0.2504</td>\n",
       "      <td>contact, question, request, service, update, r...</td>\n",
       "      <td>received from  user  date  fri   aug    pdtthe...</td>\n",
       "    </tr>\n",
       "  </tbody>\n",
       "</table>\n",
       "</div>"
      ],
      "text/plain": [
       "   Topic_Num  Topic_Perc_Contrib  \\\n",
       "0        0.0              0.5381   \n",
       "1        1.0              0.2998   \n",
       "2        2.0              0.5475   \n",
       "3        3.0              0.3790   \n",
       "4        4.0              0.3257   \n",
       "5        5.0              0.5257   \n",
       "6        6.0              0.5189   \n",
       "7        7.0              0.4000   \n",
       "8        8.0              0.1998   \n",
       "9        9.0              0.2504   \n",
       "\n",
       "                                            Keywords  \\\n",
       "0  order, ship, product, price, shipping, lifespa...   \n",
       "1  document, purchasing, purchase, file, review, ...   \n",
       "2  number, service, company, fedex, track, busine...   \n",
       "3  po, invoice, oracle, vendor, payment, submit, ...   \n",
       "4  message, inquiry, error, content, transmission...   \n",
       "5  information, requisition, place, tax, add, lin...   \n",
       "6  order, supplier, change, po, requisition_req, ...   \n",
       "7  order, address, receive, sale, research, send,...   \n",
       "8  message, mail, system, intended_recipient, del...   \n",
       "9  contact, question, request, service, update, r...   \n",
       "\n",
       "                                                Text  \n",
       "0  received from  to  university of california  s...  \n",
       "1  received from  dear uc san diego thank you for...  \n",
       "2  received from  fedex        hi  this shipment ...  \n",
       "3  received from  from  andre perez sent  friday ...  \n",
       "4  received from  thank you for contacting millip...  \n",
       "5  received from   doctype html html head \\t titl...  \n",
       "6  received from  document  requester change orde...  \n",
       "7  received from  sars cov  igg elisa kits now av...  \n",
       "8  received from  hello please confirm the attach...  \n",
       "9  received from  user  date  fri   aug    pdtthe...  "
      ]
     },
     "execution_count": 67,
     "metadata": {},
     "output_type": "execute_result"
    }
   ],
   "source": [
    "# Group top 5 sentences under each topic\n",
    "sent_topics_sorteddf_mallet = pd.DataFrame()\n",
    "\n",
    "sent_topics_outdf_grpd = df_topic_sents_keywords.groupby('Dominant_Topic')\n",
    "\n",
    "for i, grp in sent_topics_outdf_grpd:\n",
    "    sent_topics_sorteddf_mallet = pd.concat([sent_topics_sorteddf_mallet, \n",
    "                                             grp.sort_values(['Perc_Contribution'], ascending=[0]).head(1)], \n",
    "                                            axis=0)\n",
    "\n",
    "# Reset Index    \n",
    "sent_topics_sorteddf_mallet.reset_index(drop=True, inplace=True)\n",
    "\n",
    "# Format\n",
    "sent_topics_sorteddf_mallet.columns = ['Topic_Num', \"Topic_Perc_Contrib\", \"Keywords\", \"Text\"]\n",
    "\n",
    "# Show\n",
    "sent_topics_sorteddf_mallet"
   ]
  },
  {
   "cell_type": "markdown",
   "metadata": {},
   "source": [
    "#### Topic Distribution Across Documents\n",
    "\n",
    "The resulting dataframe shows us the volume and distribution of topics found in our model. "
   ]
  },
  {
   "cell_type": "code",
   "execution_count": 68,
   "metadata": {
    "tags": []
   },
   "outputs": [
    {
     "data": {
      "text/html": [
       "<div>\n",
       "<style scoped>\n",
       "    .dataframe tbody tr th:only-of-type {\n",
       "        vertical-align: middle;\n",
       "    }\n",
       "\n",
       "    .dataframe tbody tr th {\n",
       "        vertical-align: top;\n",
       "    }\n",
       "\n",
       "    .dataframe thead th {\n",
       "        text-align: right;\n",
       "    }\n",
       "</style>\n",
       "<table border=\"1\" class=\"dataframe\">\n",
       "  <thead>\n",
       "    <tr style=\"text-align: right;\">\n",
       "      <th></th>\n",
       "      <th>Dominant_Topic</th>\n",
       "      <th>Topic_Keywords</th>\n",
       "      <th>Num_Documents</th>\n",
       "      <th>Perc_Documents</th>\n",
       "    </tr>\n",
       "  </thead>\n",
       "  <tbody>\n",
       "    <tr>\n",
       "      <th>0.0</th>\n",
       "      <td>3.0</td>\n",
       "      <td>po, invoice, oracle, vendor, payment, submit, ...</td>\n",
       "      <td>49.0</td>\n",
       "      <td>0.1000</td>\n",
       "    </tr>\n",
       "    <tr>\n",
       "      <th>1.0</th>\n",
       "      <td>3.0</td>\n",
       "      <td>po, invoice, oracle, vendor, payment, submit, ...</td>\n",
       "      <td>53.0</td>\n",
       "      <td>0.1082</td>\n",
       "    </tr>\n",
       "    <tr>\n",
       "      <th>2.0</th>\n",
       "      <td>7.0</td>\n",
       "      <td>order, address, receive, sale, research, send,...</td>\n",
       "      <td>30.0</td>\n",
       "      <td>0.0612</td>\n",
       "    </tr>\n",
       "    <tr>\n",
       "      <th>3.0</th>\n",
       "      <td>0.0</td>\n",
       "      <td>order, ship, product, price, shipping, lifespa...</td>\n",
       "      <td>101.0</td>\n",
       "      <td>0.2061</td>\n",
       "    </tr>\n",
       "    <tr>\n",
       "      <th>4.0</th>\n",
       "      <td>3.0</td>\n",
       "      <td>po, invoice, oracle, vendor, payment, submit, ...</td>\n",
       "      <td>81.0</td>\n",
       "      <td>0.1653</td>\n",
       "    </tr>\n",
       "    <tr>\n",
       "      <th>...</th>\n",
       "      <td>...</td>\n",
       "      <td>...</td>\n",
       "      <td>...</td>\n",
       "      <td>...</td>\n",
       "    </tr>\n",
       "    <tr>\n",
       "      <th>485.0</th>\n",
       "      <td>5.0</td>\n",
       "      <td>information, requisition, place, tax, add, lin...</td>\n",
       "      <td>NaN</td>\n",
       "      <td>NaN</td>\n",
       "    </tr>\n",
       "    <tr>\n",
       "      <th>486.0</th>\n",
       "      <td>9.0</td>\n",
       "      <td>contact, question, request, service, update, r...</td>\n",
       "      <td>NaN</td>\n",
       "      <td>NaN</td>\n",
       "    </tr>\n",
       "    <tr>\n",
       "      <th>487.0</th>\n",
       "      <td>7.0</td>\n",
       "      <td>order, address, receive, sale, research, send,...</td>\n",
       "      <td>NaN</td>\n",
       "      <td>NaN</td>\n",
       "    </tr>\n",
       "    <tr>\n",
       "      <th>488.0</th>\n",
       "      <td>7.0</td>\n",
       "      <td>order, address, receive, sale, research, send,...</td>\n",
       "      <td>NaN</td>\n",
       "      <td>NaN</td>\n",
       "    </tr>\n",
       "    <tr>\n",
       "      <th>489.0</th>\n",
       "      <td>1.0</td>\n",
       "      <td>document, purchasing, purchase, file, review, ...</td>\n",
       "      <td>NaN</td>\n",
       "      <td>NaN</td>\n",
       "    </tr>\n",
       "  </tbody>\n",
       "</table>\n",
       "<p>490 rows × 4 columns</p>\n",
       "</div>"
      ],
      "text/plain": [
       "       Dominant_Topic                                     Topic_Keywords  \\\n",
       "0.0               3.0  po, invoice, oracle, vendor, payment, submit, ...   \n",
       "1.0               3.0  po, invoice, oracle, vendor, payment, submit, ...   \n",
       "2.0               7.0  order, address, receive, sale, research, send,...   \n",
       "3.0               0.0  order, ship, product, price, shipping, lifespa...   \n",
       "4.0               3.0  po, invoice, oracle, vendor, payment, submit, ...   \n",
       "...               ...                                                ...   \n",
       "485.0             5.0  information, requisition, place, tax, add, lin...   \n",
       "486.0             9.0  contact, question, request, service, update, r...   \n",
       "487.0             7.0  order, address, receive, sale, research, send,...   \n",
       "488.0             7.0  order, address, receive, sale, research, send,...   \n",
       "489.0             1.0  document, purchasing, purchase, file, review, ...   \n",
       "\n",
       "       Num_Documents  Perc_Documents  \n",
       "0.0             49.0          0.1000  \n",
       "1.0             53.0          0.1082  \n",
       "2.0             30.0          0.0612  \n",
       "3.0            101.0          0.2061  \n",
       "4.0             81.0          0.1653  \n",
       "...              ...             ...  \n",
       "485.0            NaN             NaN  \n",
       "486.0            NaN             NaN  \n",
       "487.0            NaN             NaN  \n",
       "488.0            NaN             NaN  \n",
       "489.0            NaN             NaN  \n",
       "\n",
       "[490 rows x 4 columns]"
      ]
     },
     "execution_count": 68,
     "metadata": {},
     "output_type": "execute_result"
    }
   ],
   "source": [
    "# Number of Documents for Each Topic\n",
    "topic_counts = df_topic_sents_keywords['Dominant_Topic'].value_counts()\n",
    "\n",
    "# Percentage of Documents for Each Topic\n",
    "topic_contribution = round(topic_counts/topic_counts.sum(), 4)\n",
    "\n",
    "# Topic Number and Keywords\n",
    "topic_num_keywords = df_topic_sents_keywords[['Dominant_Topic', 'Topic_Keywords']]\n",
    "\n",
    "# Concatenate Column wise\n",
    "df_dominant_topics = pd.concat([topic_num_keywords, topic_counts, topic_contribution], axis=1)\n",
    "\n",
    "# Change Column names\n",
    "df_dominant_topics.columns = ['Dominant_Topic', 'Topic_Keywords', 'Num_Documents', 'Perc_Documents']\n",
    "\n",
    "# Show\n",
    "df_dominant_topics"
   ]
  },
  {
   "cell_type": "markdown",
   "metadata": {},
   "source": [
    "The fact that it still shows NaN in the example we found using the documentation is still something that at this moment is not resolved. A potential solution was to manually look at the data prior to the steps that lead to the NaN results. This could be something considering each case description is tied to a topic as well as the topic keywords associated with that topic indication value. "
   ]
  },
  {
   "cell_type": "markdown",
   "metadata": {},
   "source": [
    "#### Isolated Case Result\n",
    "Use for presentation, as needed"
   ]
  },
  {
   "cell_type": "code",
   "execution_count": 82,
   "metadata": {},
   "outputs": [
    {
     "name": "stdout",
     "output_type": "stream",
     "text": [
      "Topic Keywords: message, inquiry, error, content, transmission, result, subsidiary, update, access, virus\n",
      "------------\n",
      "Perc Contribution: 0.3181\n",
      "------------\n",
      "Case Description: \n",
      "received from  thank you for contacting milliporesigma  we have received your request and will respond as soon as possible  the reference number for your inquiry is c if you need to contact us immediately  please call  sincerely  the milliporesigma service team   please reply to this email directly if you have follow up questions or more details to update your original inquiry  this provides you the fastest way to update your inquiry                                    your initial message review the purchasing document and any files that are attached to the message this message and any attachment are confidential and may be privileged or otherwise protected from disclosure  if you are not the intended recipient  you must not copy this message or attachment or disclose the contents to any other person  if you have received this transmission in error  please notify the sender immediately and delete the message and any attachment from your system  merck kgaa  darmstadt  germany and any of its subsidiaries do not accept liability for any omissions or errors in this message which may arise as a result of e mail transmission or for damages resulting from any unauthorized changes of the content of this message and any attachment thereto  merck kgaa  darmstadt  germany and any of its subsidiaries do not guarantee that this message is free of viruses and does not accept liability for any damages caused by any virus transmitted therewith click   to access the german  french  spanish and portuguese versions of this disclaimer \n"
     ]
    }
   ],
   "source": [
    "idx_val = 2\n",
    "curr_index_val = curr_topic.iloc[idx_val]\n",
    "print('Topic Keywords: ' + curr_index_val['Topic_Keywords'])\n",
    "print(\"------------\")\n",
    "print('Perc Contribution: ' + str(curr_index_val['Perc_Contribution']))\n",
    "print(\"------------\")\n",
    "print(\"Case Description: \")\n",
    "print(curr_index_val[0])"
   ]
  },
  {
   "cell_type": "code",
   "execution_count": null,
   "metadata": {},
   "outputs": [],
   "source": []
  }
 ],
 "metadata": {
  "kernelspec": {
   "display_name": "Python 3.7.9 64-bit ('base': conda)",
   "metadata": {
    "interpreter": {
     "hash": "02e2b76c3f36b561b545fd33b215e899359830b31734d753d43a9ffe1154bc22"
    }
   },
   "name": "python3"
  },
  "language_info": {
   "codemirror_mode": {
    "name": "ipython",
    "version": 3
   },
   "file_extension": ".py",
   "mimetype": "text/x-python",
   "name": "python",
   "nbconvert_exporter": "python",
   "pygments_lexer": "ipython3",
   "version": "3.7.9-final"
  },
  "orig_nbformat": 2
 },
 "nbformat": 4,
 "nbformat_minor": 2
}
